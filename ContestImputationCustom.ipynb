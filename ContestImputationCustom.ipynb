{
 "cells": [
  {
   "cell_type": "code",
   "execution_count": null,
   "metadata": {},
   "outputs": [],
   "source": [
    "from sklearn.datasets import load_iris\n",
    "from matplotlib import pyplot as plt\n",
    "from sklearn.svm import SVC\n",
    "from sklearn.model_selection import GridSearchCV, cross_val_score, cross_val_predict, KFold, train_test_split, StratifiedKFold\n",
    "from sklearn.metrics import accuracy_score, confusion_matrix\n",
    "from sklearn.impute import SimpleImputer\n",
    "from sklearn.preprocessing import minmax_scale\n",
    "from sklearn.neighbors import KNeighborsClassifier\n",
    "import numpy as np\n",
    "import pandas as pd\n",
    "import Constants as const"
   ]
  },
  {
   "cell_type": "markdown",
   "metadata": {},
   "source": [
    "# Data Preparation"
   ]
  },
  {
   "cell_type": "markdown",
   "metadata": {},
   "source": [
    "## Data cleaning"
   ]
  },
  {
   "cell_type": "code",
   "execution_count": 2,
   "metadata": {},
   "outputs": [
    {
     "data": {
      "text/html": [
       "<div>\n",
       "<style scoped>\n",
       "    .dataframe tbody tr th:only-of-type {\n",
       "        vertical-align: middle;\n",
       "    }\n",
       "\n",
       "    .dataframe tbody tr th {\n",
       "        vertical-align: top;\n",
       "    }\n",
       "\n",
       "    .dataframe thead th {\n",
       "        text-align: right;\n",
       "    }\n",
       "</style>\n",
       "<table border=\"1\" class=\"dataframe\">\n",
       "  <thead>\n",
       "    <tr style=\"text-align: right;\">\n",
       "      <th></th>\n",
       "      <th>ID</th>\n",
       "      <th>Scolarita</th>\n",
       "      <th>Eta</th>\n",
       "      <th>Sesso</th>\n",
       "      <th>MMSE_PG</th>\n",
       "      <th>MMSE_PC</th>\n",
       "      <th>MMSE_PE</th>\n",
       "      <th>MMSE_ESITO</th>\n",
       "      <th>CLOCKTEST_PG</th>\n",
       "      <th>CLOCKTEST_PE</th>\n",
       "      <th>...</th>\n",
       "      <th>FAB_ESITO</th>\n",
       "      <th>FLUENZAVERBFON_PG</th>\n",
       "      <th>FLUENZAVERBFON_PC</th>\n",
       "      <th>FLUENZAVERBFON_PE</th>\n",
       "      <th>FLUENZAVERBFON_ESITO</th>\n",
       "      <th>TESTMATRICIATTENTIVE_PG</th>\n",
       "      <th>TESTMATRICIATTENTIVE_PC</th>\n",
       "      <th>TESTMATRICIATTENTIVE_PE</th>\n",
       "      <th>TESTMATRICIATTENTIVE_ESITO</th>\n",
       "      <th>Patologia</th>\n",
       "    </tr>\n",
       "  </thead>\n",
       "  <tbody>\n",
       "    <tr>\n",
       "      <th>0</th>\n",
       "      <td>Row0</td>\n",
       "      <td>13.0</td>\n",
       "      <td>65.0</td>\n",
       "      <td>F</td>\n",
       "      <td>29.0</td>\n",
       "      <td>28.49</td>\n",
       "      <td>238.0</td>\n",
       "      <td>NORMA</td>\n",
       "      <td>5.0</td>\n",
       "      <td>7.0</td>\n",
       "      <td>...</td>\n",
       "      <td>NaN</td>\n",
       "      <td>24.0</td>\n",
       "      <td>20.9</td>\n",
       "      <td>1.0</td>\n",
       "      <td>AI LIMITI INFERIORI DELLA NORMA</td>\n",
       "      <td>47.0</td>\n",
       "      <td>45.75</td>\n",
       "      <td>3.0</td>\n",
       "      <td>NORMA</td>\n",
       "      <td>Malattia di Alzheimer</td>\n",
       "    </tr>\n",
       "    <tr>\n",
       "      <th>1</th>\n",
       "      <td>Row1</td>\n",
       "      <td>8.0</td>\n",
       "      <td>70.0</td>\n",
       "      <td>M</td>\n",
       "      <td>27.0</td>\n",
       "      <td>28.20</td>\n",
       "      <td>238.0</td>\n",
       "      <td>NORMA</td>\n",
       "      <td>6.0</td>\n",
       "      <td>5.0</td>\n",
       "      <td>...</td>\n",
       "      <td>NaN</td>\n",
       "      <td>31.0</td>\n",
       "      <td>34.9</td>\n",
       "      <td>4.0</td>\n",
       "      <td>NORMA</td>\n",
       "      <td>NaN</td>\n",
       "      <td>NaN</td>\n",
       "      <td>NaN</td>\n",
       "      <td>NaN</td>\n",
       "      <td>Assenza di patologia</td>\n",
       "    </tr>\n",
       "    <tr>\n",
       "      <th>2</th>\n",
       "      <td>Row2</td>\n",
       "      <td>12.0</td>\n",
       "      <td>70.0</td>\n",
       "      <td>F</td>\n",
       "      <td>27.0</td>\n",
       "      <td>26.86</td>\n",
       "      <td>238.0</td>\n",
       "      <td>NORMA</td>\n",
       "      <td>NaN</td>\n",
       "      <td>7.0</td>\n",
       "      <td>...</td>\n",
       "      <td>NaN</td>\n",
       "      <td>24.0</td>\n",
       "      <td>27.9</td>\n",
       "      <td>3.0</td>\n",
       "      <td>NORMA</td>\n",
       "      <td>45.0</td>\n",
       "      <td>47.00</td>\n",
       "      <td>3.0</td>\n",
       "      <td>NORMA</td>\n",
       "      <td>Malattia di Alzheimer</td>\n",
       "    </tr>\n",
       "    <tr>\n",
       "      <th>3</th>\n",
       "      <td>Row3</td>\n",
       "      <td>8.0</td>\n",
       "      <td>66.0</td>\n",
       "      <td>M</td>\n",
       "      <td>17.0</td>\n",
       "      <td>17.53</td>\n",
       "      <td>238.0</td>\n",
       "      <td>DEFICIT</td>\n",
       "      <td>2.0</td>\n",
       "      <td>5.0</td>\n",
       "      <td>...</td>\n",
       "      <td>DEFICIT</td>\n",
       "      <td>4.0</td>\n",
       "      <td>7.2</td>\n",
       "      <td>0.0</td>\n",
       "      <td>DEFICIT</td>\n",
       "      <td>7.0</td>\n",
       "      <td>5.25</td>\n",
       "      <td>0.0</td>\n",
       "      <td>DEFICIT</td>\n",
       "      <td>Malattia di Alzheimer</td>\n",
       "    </tr>\n",
       "    <tr>\n",
       "      <th>4</th>\n",
       "      <td>Row4</td>\n",
       "      <td>7.0</td>\n",
       "      <td>82.0</td>\n",
       "      <td>M</td>\n",
       "      <td>25.0</td>\n",
       "      <td>25.00</td>\n",
       "      <td>238.0</td>\n",
       "      <td>NORMA</td>\n",
       "      <td>1.0</td>\n",
       "      <td>3.0</td>\n",
       "      <td>...</td>\n",
       "      <td>DEFICIT</td>\n",
       "      <td>11.0</td>\n",
       "      <td>21.4</td>\n",
       "      <td>2.0</td>\n",
       "      <td>NORMA</td>\n",
       "      <td>37.0</td>\n",
       "      <td>41.75</td>\n",
       "      <td>2.0</td>\n",
       "      <td>NORMA</td>\n",
       "      <td>Malattia di Alzheimer</td>\n",
       "    </tr>\n",
       "  </tbody>\n",
       "</table>\n",
       "<p>5 rows × 40 columns</p>\n",
       "</div>"
      ],
      "text/plain": [
       "     ID  Scolarita   Eta Sesso  MMSE_PG  MMSE_PC  MMSE_PE MMSE_ESITO  \\\n",
       "0  Row0       13.0  65.0     F     29.0    28.49    238.0      NORMA   \n",
       "1  Row1        8.0  70.0     M     27.0    28.20    238.0      NORMA   \n",
       "2  Row2       12.0  70.0     F     27.0    26.86    238.0      NORMA   \n",
       "3  Row3        8.0  66.0     M     17.0    17.53    238.0    DEFICIT   \n",
       "4  Row4        7.0  82.0     M     25.0    25.00    238.0      NORMA   \n",
       "\n",
       "   CLOCKTEST_PG  CLOCKTEST_PE  ... FAB_ESITO  FLUENZAVERBFON_PG  \\\n",
       "0           5.0           7.0  ...       NaN               24.0   \n",
       "1           6.0           5.0  ...       NaN               31.0   \n",
       "2           NaN           7.0  ...       NaN               24.0   \n",
       "3           2.0           5.0  ...   DEFICIT                4.0   \n",
       "4           1.0           3.0  ...   DEFICIT               11.0   \n",
       "\n",
       "   FLUENZAVERBFON_PC  FLUENZAVERBFON_PE             FLUENZAVERBFON_ESITO  \\\n",
       "0               20.9                1.0  AI LIMITI INFERIORI DELLA NORMA   \n",
       "1               34.9                4.0                            NORMA   \n",
       "2               27.9                3.0                            NORMA   \n",
       "3                7.2                0.0                          DEFICIT   \n",
       "4               21.4                2.0                            NORMA   \n",
       "\n",
       "   TESTMATRICIATTENTIVE_PG  TESTMATRICIATTENTIVE_PC  TESTMATRICIATTENTIVE_PE  \\\n",
       "0                     47.0                    45.75                      3.0   \n",
       "1                      NaN                      NaN                      NaN   \n",
       "2                     45.0                    47.00                      3.0   \n",
       "3                      7.0                     5.25                      0.0   \n",
       "4                     37.0                    41.75                      2.0   \n",
       "\n",
       "  TESTMATRICIATTENTIVE_ESITO              Patologia  \n",
       "0                      NORMA  Malattia di Alzheimer  \n",
       "1                        NaN   Assenza di patologia  \n",
       "2                      NORMA  Malattia di Alzheimer  \n",
       "3                    DEFICIT  Malattia di Alzheimer  \n",
       "4                      NORMA  Malattia di Alzheimer  \n",
       "\n",
       "[5 rows x 40 columns]"
      ]
     },
     "execution_count": 2,
     "metadata": {},
     "output_type": "execute_result"
    }
   ],
   "source": [
    "# Load dataset\n",
    "df = pd.read_excel('TrainingSet.xlsx')\n",
    "df_test = pd.read_excel('TestSet.xlsx')\n",
    "\n",
    "# Convert Sex attribute in UpperCase\n",
    "df['Sesso'] = df['Sesso'].str.upper()\n",
    "\n",
    "# Remove CAP attribute\n",
    "df = df.drop(columns =['CAP'])\n",
    "df_test = df_test.drop(columns =['CAP'])\n",
    "# df = df.drop(columns =['Sesso'])\n",
    "# df = df.drop(columns =['ID'])\n",
    "\n",
    "# Remove unlabeled instances\n",
    "df = df.loc[df[\"Patologia\"] == df[\"Patologia\"]]\n",
    "\n",
    "dim_df = df.shape[0]\n",
    "dim_df_test = df_test.shape[0]\n",
    "df.head()"
   ]
  },
  {
   "cell_type": "code",
   "execution_count": 3,
   "metadata": {},
   "outputs": [],
   "source": [
    "def new_column(df, df_clean, feature, dim):\n",
    "    col_pc = feature + '_PC'\n",
    "    col_pg = feature + '_PG'\n",
    "    col_es = feature + '_ESITO'\n",
    "    col_new = feature\n",
    "    tresh = const.const_dict[\"TRESHOLD\"]\n",
    "\n",
    "    for i in range(dim):\n",
    "\n",
    "        if col_pc in df.columns:\n",
    "\n",
    "            if (df.loc[i, col_pc] == df.loc[i, col_pc]) and (df.loc[i,col_pg] == df.loc[i,col_pg]):\n",
    "                if abs(df.loc[i, col_pc] - df.loc[i,col_pg]) < tresh:\n",
    "                    df_clean.loc[i,col_new] = df.loc[i, col_pc]\n",
    "                else:\n",
    "                    df_clean.loc[i,col_new] = df.loc[i, col_pg]\n",
    "\n",
    "            elif (df.loc[i, col_pc] != df.loc[i, col_pc]) and (df.loc[i,col_pg] == df.loc[i,col_pg]):\n",
    "                df_clean.loc[i,col_new] = df.loc[i, col_pg] \n",
    "            elif (df.loc[i, col_pc] == df.loc[i, col_pc]) and (df.loc[i,col_pg] != df.loc[i,col_pg]):\n",
    "                df_clean.loc[i,col_new] = df.loc[i, col_pc]\n",
    "\n",
    "            elif df.loc[i,col_es] == df.loc[i,col_es]:\n",
    "                if df.loc[i,col_es] == \"NORMA\":\n",
    "                    df_clean.loc[i,col_new] = (const.const_dict[col_new + \"_MAX\"] + const.const_dict[col_new + \"_CUTOFF\"])/2\n",
    "                elif df.loc[i,col_es] == \"DEFICIT\":\n",
    "                    df_clean.loc[i,col_new] = const.const_dict[col_new + \"_CUTOFF\"]/2\n",
    "                else:\n",
    "                    df_clean.loc[i,col_new] = const.const_dict[col_new + \"_CUTOFF\"]\n",
    "\n",
    "            # else:\n",
    "                #Null\n",
    "\n",
    "        else:\n",
    "            if df.loc[i,col_pg] == df.loc[i,col_pg]:\n",
    "                df_clean.loc[i,col_new] = df.loc[i, col_pg]\n",
    "                \n",
    "            elif df.loc[i,col_es] == df.loc[i,col_es]:\n",
    "                if df.loc[i,col_es] == \"NORMA\":\n",
    "                    df_clean.loc[i,col_new] = (const.const_dict[col_new + \"_MAX\"] + const.const_dict[col_new + \"_CUTOFF\"])/2\n",
    "                elif df.loc[i,col_es] == \"DEFICIT\":\n",
    "                    df_clean.loc[i,col_new] = const.const_dict[col_new + \"_CUTOFF\"]/2\n",
    "                else:\n",
    "                    df_clean.loc[i,col_new] = const.const_dict[col_new + \"_CUTOFF\"]\n",
    "            # else:\n",
    "                #Null\n",
    "\n",
    "# plt.hist(df_clean['MMSE'], bins = 20)"
   ]
  },
  {
   "cell_type": "markdown",
   "metadata": {},
   "source": [
    "## Imputation"
   ]
  },
  {
   "cell_type": "code",
   "execution_count": 4,
   "metadata": {},
   "outputs": [
    {
     "data": {
      "text/plain": [
       "MMSE                    False\n",
       "CLOCKTEST               False\n",
       "COPIAFIGURAREY          False\n",
       "PAROLEREYIMM            False\n",
       "PAROLEREYDIFF           False\n",
       "MEMORIAFIGURAREY        False\n",
       "FLUENZAVERBFON          False\n",
       "TESTMATRICIATTENTIVE    False\n",
       "dtype: bool"
      ]
     },
     "execution_count": 4,
     "metadata": {},
     "output_type": "execute_result"
    }
   ],
   "source": [
    "df_clean = pd.DataFrame(columns = df.columns[0:4], data = df.iloc[:,0:4])\n",
    "df_clean\n",
    "# \"Feature selection\"\n",
    "new_column(df, df_clean, \"MMSE\", dim_df)\n",
    "new_column(df, df_clean, \"CLOCKTEST\", dim_df)\n",
    "new_column(df, df_clean, \"COPIAFIGURAREY\", dim_df)\n",
    "new_column(df, df_clean, \"PAROLEREYIMM\", dim_df)\n",
    "new_column(df, df_clean, \"PAROLEREYDIFF\", dim_df)\n",
    "new_column(df, df_clean, \"MEMORIAFIGURAREY\", dim_df)\n",
    "new_column(df, df_clean, \"FAB\", dim_df)\n",
    "new_column(df, df_clean, \"FLUENZAVERBFON\", dim_df)\n",
    "new_column(df, df_clean, \"TESTMATRICIATTENTIVE\", dim_df)\n",
    "\n",
    "df_clean = df_clean.drop([\"Scolarita\", \"Eta\", \"Sesso\", \"FAB\"], axis = 1)\n",
    "df_clean\n",
    "\n",
    "df_imp_num = df_clean.drop(\"ID\", axis = 1)\n",
    "\n",
    "num_imputer = SimpleImputer(missing_values=np.nan, strategy='mean')\n",
    "num_imputer.fit(df_imp_num.values)\n",
    "df_imp_num = pd.DataFrame(num_imputer.transform(df_imp_num.values))\n",
    "df_imp_num.columns = df_clean.columns.drop(\"ID\")\n",
    "df_imp_num.isna().any()"
   ]
  },
  {
   "cell_type": "code",
   "execution_count": 5,
   "metadata": {},
   "outputs": [
    {
     "data": {
      "text/plain": [
       "MMSE                    False\n",
       "CLOCKTEST               False\n",
       "COPIAFIGURAREY          False\n",
       "PAROLEREYIMM            False\n",
       "PAROLEREYDIFF           False\n",
       "MEMORIAFIGURAREY        False\n",
       "FLUENZAVERBFON          False\n",
       "TESTMATRICIATTENTIVE    False\n",
       "dtype: bool"
      ]
     },
     "execution_count": 5,
     "metadata": {},
     "output_type": "execute_result"
    }
   ],
   "source": [
    "df_clean_test = pd.DataFrame(columns = df_test.columns[0:4], data = df_test.iloc[:,0:4])\n",
    "df_clean_test\n",
    "# \"Feature selection\"\n",
    "new_column(df_test, df_clean_test, \"MMSE\", dim_df_test)\n",
    "new_column(df_test, df_clean_test, \"CLOCKTEST\", dim_df_test)\n",
    "new_column(df_test, df_clean_test, \"COPIAFIGURAREY\", dim_df_test)\n",
    "new_column(df_test, df_clean_test, \"PAROLEREYIMM\", dim_df_test)\n",
    "new_column(df_test, df_clean_test, \"PAROLEREYDIFF\", dim_df_test)\n",
    "new_column(df_test, df_clean_test, \"MEMORIAFIGURAREY\", dim_df_test)\n",
    "new_column(df_test, df_clean_test, \"FAB\", dim_df_test)\n",
    "new_column(df_test, df_clean_test, \"FLUENZAVERBFON\", dim_df_test)\n",
    "new_column(df_test, df_clean_test, \"TESTMATRICIATTENTIVE\", dim_df_test)\n",
    "\n",
    "df_clean_test = df_clean_test.drop([\"Scolarita\", \"Eta\", \"Sesso\", \"FAB\"], axis = 1)\n",
    "df_clean_test\n",
    "\n",
    "df_imp_num_test = df_clean_test.drop(\"ID\", axis = 1)\n",
    "\n",
    "df_imp_num_test = pd.DataFrame(num_imputer.transform(df_imp_num_test.values))\n",
    "df_imp_num_test.columns = df_clean_test.columns.drop(\"ID\")\n",
    "df_imp_num_test.isna().any()"
   ]
  },
  {
   "cell_type": "markdown",
   "metadata": {},
   "source": [
    "# Model Selection"
   ]
  },
  {
   "cell_type": "code",
   "execution_count": 6,
   "metadata": {},
   "outputs": [],
   "source": [
    "# Splitting Training data and prediction\n",
    "df_data_num = df_imp_num\n",
    "df_target = df['Patologia']\n",
    "\n",
    "# Splitting Test Set data\n",
    "df_data_test_num = df_imp_num_test"
   ]
  },
  {
   "cell_type": "markdown",
   "metadata": {},
   "source": [
    "## KNN numerical"
   ]
  },
  {
   "cell_type": "code",
   "execution_count": 7,
   "metadata": {},
   "outputs": [
    {
     "name": "stderr",
     "output_type": "stream",
     "text": [
      "[Parallel(n_jobs=1)]: Using backend SequentialBackend with 1 concurrent workers.\n",
      "[Parallel(n_jobs=1)]: Done   4 out of   4 | elapsed:    9.5s finished\n",
      "[Parallel(n_jobs=1)]: Using backend SequentialBackend with 1 concurrent workers.\n"
     ]
    },
    {
     "name": "stdout",
     "output_type": "stream",
     "text": [
      "0.6796943873053188\n"
     ]
    },
    {
     "name": "stderr",
     "output_type": "stream",
     "text": [
      "[Parallel(n_jobs=1)]: Done   4 out of   4 | elapsed:    7.5s finished\n",
      "[Parallel(n_jobs=1)]: Using backend SequentialBackend with 1 concurrent workers.\n"
     ]
    },
    {
     "name": "stdout",
     "output_type": "stream",
     "text": [
      "0.673633558624743\n"
     ]
    },
    {
     "name": "stderr",
     "output_type": "stream",
     "text": [
      "[Parallel(n_jobs=1)]: Done   4 out of   4 | elapsed:    8.1s finished\n",
      "[Parallel(n_jobs=1)]: Using backend SequentialBackend with 1 concurrent workers.\n"
     ]
    },
    {
     "name": "stdout",
     "output_type": "stream",
     "text": [
      "0.6676829268292683\n"
     ]
    },
    {
     "name": "stderr",
     "output_type": "stream",
     "text": [
      "[Parallel(n_jobs=1)]: Done   4 out of   4 | elapsed:    8.1s finished\n",
      "[Parallel(n_jobs=1)]: Using backend SequentialBackend with 1 concurrent workers.\n"
     ]
    },
    {
     "name": "stdout",
     "output_type": "stream",
     "text": [
      "0.6648545401116661\n",
      "0.676645606817514\n",
      "Mean score:  0.672502203937702\n"
     ]
    },
    {
     "name": "stderr",
     "output_type": "stream",
     "text": [
      "[Parallel(n_jobs=1)]: Done   4 out of   4 | elapsed:    7.3s finished\n"
     ]
    }
   ],
   "source": [
    "# Normalize data\n",
    "df_data_num_norm = pd.DataFrame(data = minmax_scale(df_data_num, feature_range=(0, 1), axis=0, copy=True), columns = df_data_num.columns)\n",
    "\n",
    "# Set up possible values of parameters to optimize over\n",
    "p_grid = {\"metric\": [\"manhattan\", \"euclidean\"],\n",
    "          \"n_neighbors\": np.arange(1,20,1),\n",
    "          \"weights\": [\"distance\", \"uniform\"]}\n",
    "\n",
    "# KNN Classifier\n",
    "# model = NearestNeighbors(*, n_neighbors=5, radius=1.0, algorithm='auto', leaf_size=30, metric='minkowski', p=2, metric_params=None, n_jobs=None)\n",
    "model = KNeighborsClassifier(radius=1.0, algorithm='auto', leaf_size=30, n_jobs=2)\n",
    "\n",
    "\n",
    "# Number of random trials\n",
    "NUM_TRIALS = 5\n",
    "\n",
    "# Arrays to store scores\n",
    "non_nested_scores = np.zeros(NUM_TRIALS)\n",
    "nested_scores = np.zeros(NUM_TRIALS)\n",
    "\n",
    "# Model selection\n",
    "for i in range(NUM_TRIALS):\n",
    "    \n",
    "    # Choose cross-validation techniques for the inner and outer loops\n",
    "    inner_cv = StratifiedKFold(n_splits=4, shuffle=True, random_state=i)\n",
    "    outer_cv = StratifiedKFold(n_splits=4, shuffle=True, random_state=i)\n",
    "\n",
    "    # Non_nested parameter search and scoring\n",
    "    clf = GridSearchCV(estimator=model, param_grid=p_grid, cv=inner_cv, scoring = 'accuracy', verbose = 0)\n",
    "\n",
    "    # Nested CV with parameter optimization\n",
    "    nested_score = cross_val_score(clf, X=df_data_num_norm.values, y=df_target.values, cv=outer_cv, verbose = 1)\n",
    "    print(nested_score.mean())\n",
    "    nested_scores[i] = nested_score.mean()\n",
    "    \n",
    "print(\"Mean score: \", nested_scores.mean())"
   ]
  },
  {
   "cell_type": "markdown",
   "metadata": {},
   "source": [
    "## SVC with rbf kernel"
   ]
  },
  {
   "cell_type": "code",
   "execution_count": 10,
   "metadata": {},
   "outputs": [
    {
     "name": "stderr",
     "output_type": "stream",
     "text": [
      "[Parallel(n_jobs=1)]: Using backend SequentialBackend with 1 concurrent workers.\n",
      "[Parallel(n_jobs=1)]: Done   4 out of   4 | elapsed:    8.0s finished\n",
      "[Parallel(n_jobs=1)]: Using backend SequentialBackend with 1 concurrent workers.\n"
     ]
    },
    {
     "name": "stdout",
     "output_type": "stream",
     "text": [
      "0.6767558037026153\n"
     ]
    },
    {
     "name": "stderr",
     "output_type": "stream",
     "text": [
      "[Parallel(n_jobs=1)]: Done   4 out of   4 | elapsed:    8.1s finished\n",
      "[Parallel(n_jobs=1)]: Using backend SequentialBackend with 1 concurrent workers.\n"
     ]
    },
    {
     "name": "stdout",
     "output_type": "stream",
     "text": [
      "0.6616588304437261\n"
     ]
    },
    {
     "name": "stderr",
     "output_type": "stream",
     "text": [
      "[Parallel(n_jobs=1)]: Done   4 out of   4 | elapsed:    8.0s finished\n",
      "[Parallel(n_jobs=1)]: Using backend SequentialBackend with 1 concurrent workers.\n"
     ]
    },
    {
     "name": "stdout",
     "output_type": "stream",
     "text": [
      "0.6798045841904201\n"
     ]
    },
    {
     "name": "stderr",
     "output_type": "stream",
     "text": [
      "[Parallel(n_jobs=1)]: Done   4 out of   4 | elapsed:    7.8s finished\n",
      "[Parallel(n_jobs=1)]: Using backend SequentialBackend with 1 concurrent workers.\n"
     ]
    },
    {
     "name": "stdout",
     "output_type": "stream",
     "text": [
      "0.6738906846899795\n",
      "0.6888407287687335\n",
      "Mean score:  0.6761901263590948\n"
     ]
    },
    {
     "name": "stderr",
     "output_type": "stream",
     "text": [
      "[Parallel(n_jobs=1)]: Done   4 out of   4 | elapsed:    7.7s finished\n"
     ]
    }
   ],
   "source": [
    "# Normalize data\n",
    "df_data_num_norm = pd.DataFrame(data = minmax_scale(df_data_num, feature_range=(0, 1), axis=0, copy=True), columns = df_data_num.columns)\n",
    "\n",
    "# Set up possible values of parameters to optimize over\n",
    "p_grid = {\"C\": np.arange(1,4,0.5),\n",
    "          \"gamma\": np.arange(0.01,1,0.1),\n",
    "          \"degree\":[1,2,3]}\n",
    "\n",
    "# We will use a Support Vector Classifier\n",
    "model = SVC(kernel=\"rbf\")\n",
    "\n",
    "# Number of random trials\n",
    "NUM_TRIALS = 5\n",
    "\n",
    "# Arrays to store scores\n",
    "non_nested_scores = np.zeros(NUM_TRIALS)\n",
    "nested_scores = np.zeros(NUM_TRIALS)\n",
    "\n",
    "# Model selection\n",
    "for i in range(NUM_TRIALS):\n",
    "    \n",
    "    # Choose cross-validation techniques for the inner and outer loops\n",
    "    inner_cv = StratifiedKFold(n_splits=4, shuffle=True, random_state=i)\n",
    "    outer_cv = StratifiedKFold(n_splits=4, shuffle=True, random_state=i)\n",
    "\n",
    "    # Non_nested parameter search and scoring\n",
    "    clf = GridSearchCV(estimator=model, param_grid=p_grid, cv=inner_cv, verbose = 0)\n",
    "\n",
    "    # Nested CV with parameter optimization\n",
    "    nested_score = cross_val_score(clf, X=df_data_num_norm.values, y=df_target.values, cv=outer_cv, verbose = 1)\n",
    "    print(nested_score.mean())\n",
    "    nested_scores[i] = nested_score.mean()\n",
    "    \n",
    "print(\"Mean score: \", nested_scores.mean())"
   ]
  },
  {
   "cell_type": "markdown",
   "metadata": {},
   "source": [
    "## SVC with polinomial kernel"
   ]
  },
  {
   "cell_type": "code",
   "execution_count": 11,
   "metadata": {},
   "outputs": [
    {
     "name": "stderr",
     "output_type": "stream",
     "text": [
      "[Parallel(n_jobs=1)]: Using backend SequentialBackend with 1 concurrent workers.\n",
      "[Parallel(n_jobs=1)]: Done   4 out of   4 | elapsed:    7.8s finished\n",
      "[Parallel(n_jobs=1)]: Using backend SequentialBackend with 1 concurrent workers.\n"
     ]
    },
    {
     "name": "stdout",
     "output_type": "stream",
     "text": [
      "0.6797678518953865\n"
     ]
    },
    {
     "name": "stderr",
     "output_type": "stream",
     "text": [
      "[Parallel(n_jobs=1)]: Done   4 out of   4 | elapsed:    7.4s finished\n",
      "[Parallel(n_jobs=1)]: Using backend SequentialBackend with 1 concurrent workers.\n"
     ]
    },
    {
     "name": "stdout",
     "output_type": "stream",
     "text": [
      "0.6768292682926829\n"
     ]
    },
    {
     "name": "stderr",
     "output_type": "stream",
     "text": [
      "[Parallel(n_jobs=1)]: Done   4 out of   4 | elapsed:    8.6s finished\n",
      "[Parallel(n_jobs=1)]: Using backend SequentialBackend with 1 concurrent workers.\n"
     ]
    },
    {
     "name": "stdout",
     "output_type": "stream",
     "text": [
      "0.6797678518953865\n"
     ]
    },
    {
     "name": "stderr",
     "output_type": "stream",
     "text": [
      "[Parallel(n_jobs=1)]: Done   4 out of   4 | elapsed:    8.7s finished\n",
      "[Parallel(n_jobs=1)]: Using backend SequentialBackend with 1 concurrent workers.\n"
     ]
    },
    {
     "name": "stdout",
     "output_type": "stream",
     "text": [
      "0.6678298560094035\n",
      "0.6677196591243021\n",
      "Mean score:  0.6743828974434323\n"
     ]
    },
    {
     "name": "stderr",
     "output_type": "stream",
     "text": [
      "[Parallel(n_jobs=1)]: Done   4 out of   4 | elapsed:    8.5s finished\n"
     ]
    }
   ],
   "source": [
    "# Normalize data\n",
    "df_data_num_norm = pd.DataFrame(data = minmax_scale(df_data_num, feature_range=(0, 1), axis=0, copy=True), columns = df_data_num.columns)\n",
    "\n",
    "# Set up possible values of parameters to optimize over\n",
    "p_grid = {\"C\": np.arange(1,4,0.5),\n",
    "          \"gamma\": np.arange(0.01,1,0.1),\n",
    "          \"degree\":[1,2,3]}\n",
    "\n",
    "# We will use a Support Vector Classifier\n",
    "model = SVC(kernel=\"poly\")\n",
    "\n",
    "# Number of random trials\n",
    "NUM_TRIALS = 5\n",
    "\n",
    "# Arrays to store scores\n",
    "non_nested_scores = np.zeros(NUM_TRIALS)\n",
    "nested_scores = np.zeros(NUM_TRIALS)\n",
    "\n",
    "# Model selection\n",
    "for i in range(NUM_TRIALS):\n",
    "    \n",
    "    # Choose cross-validation techniques for the inner and outer loops\n",
    "    inner_cv = StratifiedKFold(n_splits=4, shuffle=True, random_state=i)\n",
    "    outer_cv = StratifiedKFold(n_splits=4, shuffle=True, random_state=i)\n",
    "\n",
    "    # Non_nested parameter search and scoring\n",
    "    clf = GridSearchCV(estimator=model, param_grid=p_grid, cv=inner_cv) #verbose = 1)\n",
    "\n",
    "    # Nested CV with parameter optimization\n",
    "    nested_score = cross_val_score(clf, X=df_data_num_norm.values, y=df_target.values, cv=outer_cv, verbose = 1)\n",
    "    print(nested_score.mean())\n",
    "    nested_scores[i] = nested_score.mean()\n",
    "    \n",
    "print(\"Mean score: \", nested_scores.mean())"
   ]
  },
  {
   "cell_type": "markdown",
   "metadata": {},
   "source": [
    "# Hyperparameter Selection"
   ]
  },
  {
   "cell_type": "code",
   "execution_count": 8,
   "metadata": {},
   "outputs": [
    {
     "name": "stderr",
     "output_type": "stream",
     "text": [
      "[Parallel(n_jobs=1)]: Using backend SequentialBackend with 1 concurrent workers.\n"
     ]
    },
    {
     "name": "stdout",
     "output_type": "stream",
     "text": [
      "Fitting 10 folds for each of 180 candidates, totalling 1800 fits\n",
      "Best score:  0.6926877470355731\n",
      "Best params:  {'C': 1.0, 'degree': 2, 'gamma': 0.91}\n"
     ]
    },
    {
     "name": "stderr",
     "output_type": "stream",
     "text": [
      "[Parallel(n_jobs=1)]: Done 1800 out of 1800 | elapsed:    4.8s finished\n"
     ]
    },
    {
     "data": {
      "text/html": [
       "<div>\n",
       "<style scoped>\n",
       "    .dataframe tbody tr th:only-of-type {\n",
       "        vertical-align: middle;\n",
       "    }\n",
       "\n",
       "    .dataframe tbody tr th {\n",
       "        vertical-align: top;\n",
       "    }\n",
       "\n",
       "    .dataframe thead th {\n",
       "        text-align: right;\n",
       "    }\n",
       "</style>\n",
       "<table border=\"1\" class=\"dataframe\">\n",
       "  <thead>\n",
       "    <tr style=\"text-align: right;\">\n",
       "      <th></th>\n",
       "      <th>params</th>\n",
       "      <th>split0_test_score</th>\n",
       "      <th>split1_test_score</th>\n",
       "      <th>split2_test_score</th>\n",
       "      <th>split3_test_score</th>\n",
       "      <th>split4_test_score</th>\n",
       "      <th>split5_test_score</th>\n",
       "      <th>split6_test_score</th>\n",
       "      <th>split7_test_score</th>\n",
       "      <th>split8_test_score</th>\n",
       "      <th>split9_test_score</th>\n",
       "      <th>mean_test_score</th>\n",
       "      <th>std_test_score</th>\n",
       "      <th>rank_test_score</th>\n",
       "    </tr>\n",
       "  </thead>\n",
       "  <tbody>\n",
       "    <tr>\n",
       "      <th>19</th>\n",
       "      <td>{'C': 1.0, 'degree': 2, 'gamma': 0.91}</td>\n",
       "      <td>0.608696</td>\n",
       "      <td>0.772727</td>\n",
       "      <td>0.727273</td>\n",
       "      <td>0.727273</td>\n",
       "      <td>0.681818</td>\n",
       "      <td>0.681818</td>\n",
       "      <td>0.590909</td>\n",
       "      <td>0.727273</td>\n",
       "      <td>0.727273</td>\n",
       "      <td>0.681818</td>\n",
       "      <td>0.692688</td>\n",
       "      <td>0.053813</td>\n",
       "      <td>1</td>\n",
       "    </tr>\n",
       "    <tr>\n",
       "      <th>135</th>\n",
       "      <td>{'C': 3.0, 'degree': 2, 'gamma': 0.51}</td>\n",
       "      <td>0.608696</td>\n",
       "      <td>0.772727</td>\n",
       "      <td>0.727273</td>\n",
       "      <td>0.727273</td>\n",
       "      <td>0.636364</td>\n",
       "      <td>0.681818</td>\n",
       "      <td>0.590909</td>\n",
       "      <td>0.727273</td>\n",
       "      <td>0.727273</td>\n",
       "      <td>0.681818</td>\n",
       "      <td>0.688142</td>\n",
       "      <td>0.056397</td>\n",
       "      <td>2</td>\n",
       "    </tr>\n",
       "    <tr>\n",
       "      <th>165</th>\n",
       "      <td>{'C': 3.5, 'degree': 2, 'gamma': 0.51}</td>\n",
       "      <td>0.608696</td>\n",
       "      <td>0.772727</td>\n",
       "      <td>0.727273</td>\n",
       "      <td>0.681818</td>\n",
       "      <td>0.681818</td>\n",
       "      <td>0.681818</td>\n",
       "      <td>0.590909</td>\n",
       "      <td>0.727273</td>\n",
       "      <td>0.727273</td>\n",
       "      <td>0.681818</td>\n",
       "      <td>0.688142</td>\n",
       "      <td>0.052606</td>\n",
       "      <td>2</td>\n",
       "    </tr>\n",
       "    <tr>\n",
       "      <th>106</th>\n",
       "      <td>{'C': 2.5, 'degree': 2, 'gamma': 0.61000000000...</td>\n",
       "      <td>0.608696</td>\n",
       "      <td>0.772727</td>\n",
       "      <td>0.727273</td>\n",
       "      <td>0.681818</td>\n",
       "      <td>0.681818</td>\n",
       "      <td>0.681818</td>\n",
       "      <td>0.590909</td>\n",
       "      <td>0.727273</td>\n",
       "      <td>0.727273</td>\n",
       "      <td>0.681818</td>\n",
       "      <td>0.688142</td>\n",
       "      <td>0.052606</td>\n",
       "      <td>2</td>\n",
       "    </tr>\n",
       "    <tr>\n",
       "      <th>48</th>\n",
       "      <td>{'C': 1.5, 'degree': 2, 'gamma': 0.81}</td>\n",
       "      <td>0.608696</td>\n",
       "      <td>0.772727</td>\n",
       "      <td>0.727273</td>\n",
       "      <td>0.681818</td>\n",
       "      <td>0.681818</td>\n",
       "      <td>0.681818</td>\n",
       "      <td>0.590909</td>\n",
       "      <td>0.727273</td>\n",
       "      <td>0.727273</td>\n",
       "      <td>0.681818</td>\n",
       "      <td>0.688142</td>\n",
       "      <td>0.052606</td>\n",
       "      <td>2</td>\n",
       "    </tr>\n",
       "  </tbody>\n",
       "</table>\n",
       "</div>"
      ],
      "text/plain": [
       "                                                params  split0_test_score  \\\n",
       "19              {'C': 1.0, 'degree': 2, 'gamma': 0.91}           0.608696   \n",
       "135             {'C': 3.0, 'degree': 2, 'gamma': 0.51}           0.608696   \n",
       "165             {'C': 3.5, 'degree': 2, 'gamma': 0.51}           0.608696   \n",
       "106  {'C': 2.5, 'degree': 2, 'gamma': 0.61000000000...           0.608696   \n",
       "48              {'C': 1.5, 'degree': 2, 'gamma': 0.81}           0.608696   \n",
       "\n",
       "     split1_test_score  split2_test_score  split3_test_score  \\\n",
       "19            0.772727           0.727273           0.727273   \n",
       "135           0.772727           0.727273           0.727273   \n",
       "165           0.772727           0.727273           0.681818   \n",
       "106           0.772727           0.727273           0.681818   \n",
       "48            0.772727           0.727273           0.681818   \n",
       "\n",
       "     split4_test_score  split5_test_score  split6_test_score  \\\n",
       "19            0.681818           0.681818           0.590909   \n",
       "135           0.636364           0.681818           0.590909   \n",
       "165           0.681818           0.681818           0.590909   \n",
       "106           0.681818           0.681818           0.590909   \n",
       "48            0.681818           0.681818           0.590909   \n",
       "\n",
       "     split7_test_score  split8_test_score  split9_test_score  mean_test_score  \\\n",
       "19            0.727273           0.727273           0.681818         0.692688   \n",
       "135           0.727273           0.727273           0.681818         0.688142   \n",
       "165           0.727273           0.727273           0.681818         0.688142   \n",
       "106           0.727273           0.727273           0.681818         0.688142   \n",
       "48            0.727273           0.727273           0.681818         0.688142   \n",
       "\n",
       "     std_test_score  rank_test_score  \n",
       "19         0.053813                1  \n",
       "135        0.056397                2  \n",
       "165        0.052606                2  \n",
       "106        0.052606                2  \n",
       "48         0.052606                2  "
      ]
     },
     "execution_count": 8,
     "metadata": {},
     "output_type": "execute_result"
    }
   ],
   "source": [
    "# Split dataset (2/3 training , 1/3 test)\n",
    "data_train, data_test, target_train, target_test = train_test_split(df_data_num.values, df_target.values, test_size=0.33, stratify = df_target)\n",
    "\n",
    "# Normalize data\n",
    "data_train_norm = minmax_scale(data_train, feature_range=(0, 1), axis=0, copy=True)\n",
    "data_test_norm = minmax_scale(data_test, feature_range=(0, 1), axis=0, copy=True)\n",
    "\n",
    "# Select best hyerparameter\n",
    "p_grid = {\"C\": np.arange(1,4,0.5),\n",
    "          \"gamma\": np.arange(0.01,1,0.1),\n",
    "          \"degree\":[1,2,3]}\n",
    "\n",
    "model = SVC(kernel=\"poly\")\n",
    "hyp_cv = StratifiedKFold(n_splits=10, shuffle=True, random_state=1)\n",
    "clf = GridSearchCV(estimator=model, param_grid=p_grid, cv= hyp_cv, verbose = 1, scoring = 'accuracy')\n",
    "\n",
    "clf.fit(data_train_norm,target_train)\n",
    "\n",
    "print(\"Best score: \", clf.best_score_)\n",
    "print(\"Best params: \", clf.best_params_)\n",
    "# print(clf.best_index_)\n",
    "# print(clf.scorer_)\n",
    "\n",
    "df_score = pd.DataFrame(clf.cv_results_)\n",
    "df_score = df_score.sort_values(by=[\"rank_test_score\"])\n",
    "df_score = df_score.loc[:,\"params\":\"rank_test_score\"]\n",
    "df_score.head()"
   ]
  },
  {
   "cell_type": "markdown",
   "metadata": {},
   "source": [
    "# Model Evaluation"
   ]
  },
  {
   "cell_type": "markdown",
   "metadata": {},
   "source": [
    "## Test set evaluation"
   ]
  },
  {
   "cell_type": "code",
   "execution_count": 9,
   "metadata": {},
   "outputs": [
    {
     "name": "stdout",
     "output_type": "stream",
     "text": [
      "Accuracy:  0.6909090909090909\n"
     ]
    },
    {
     "data": {
      "text/html": [
       "<div>\n",
       "<style scoped>\n",
       "    .dataframe tbody tr th:only-of-type {\n",
       "        vertical-align: middle;\n",
       "    }\n",
       "\n",
       "    .dataframe tbody tr th {\n",
       "        vertical-align: top;\n",
       "    }\n",
       "\n",
       "    .dataframe thead th {\n",
       "        text-align: right;\n",
       "    }\n",
       "</style>\n",
       "<table border=\"1\" class=\"dataframe\">\n",
       "  <thead>\n",
       "    <tr style=\"text-align: right;\">\n",
       "      <th></th>\n",
       "      <th>Conf. matrix</th>\n",
       "      <th>Assenza di patologia</th>\n",
       "      <th>Malattia di Alzheimer</th>\n",
       "      <th>Disturbo cognitivo lieve</th>\n",
       "      <th>Disturbo depressivo</th>\n",
       "    </tr>\n",
       "  </thead>\n",
       "  <tbody>\n",
       "    <tr>\n",
       "      <th>0</th>\n",
       "      <td>Assenza di patologia</td>\n",
       "      <td>64</td>\n",
       "      <td>3</td>\n",
       "      <td>0</td>\n",
       "      <td>0</td>\n",
       "    </tr>\n",
       "    <tr>\n",
       "      <th>1</th>\n",
       "      <td>Malattia di Alzheimer</td>\n",
       "      <td>9</td>\n",
       "      <td>12</td>\n",
       "      <td>0</td>\n",
       "      <td>0</td>\n",
       "    </tr>\n",
       "    <tr>\n",
       "      <th>2</th>\n",
       "      <td>Disturbo cognitivo lieve</td>\n",
       "      <td>8</td>\n",
       "      <td>6</td>\n",
       "      <td>0</td>\n",
       "      <td>0</td>\n",
       "    </tr>\n",
       "    <tr>\n",
       "      <th>3</th>\n",
       "      <td>Disturbo depressivo</td>\n",
       "      <td>8</td>\n",
       "      <td>0</td>\n",
       "      <td>0</td>\n",
       "      <td>0</td>\n",
       "    </tr>\n",
       "  </tbody>\n",
       "</table>\n",
       "</div>"
      ],
      "text/plain": [
       "               Conf. matrix  Assenza di patologia  Malattia di Alzheimer  \\\n",
       "0      Assenza di patologia                    64                      3   \n",
       "1     Malattia di Alzheimer                     9                     12   \n",
       "2  Disturbo cognitivo lieve                     8                      6   \n",
       "3       Disturbo depressivo                     8                      0   \n",
       "\n",
       "   Disturbo cognitivo lieve  Disturbo depressivo  \n",
       "0                         0                    0  \n",
       "1                         0                    0  \n",
       "2                         0                    0  \n",
       "3                         0                    0  "
      ]
     },
     "execution_count": 9,
     "metadata": {},
     "output_type": "execute_result"
    }
   ],
   "source": [
    "# Evaluating model on 1/3 of dataset\n",
    "model = SVC(kernel=\"poly\", C = 1,  degree = 2, gamma = 0.5)\n",
    "\n",
    "model.fit(data_train_norm, target_train)\n",
    "prediction = model.predict(data_test_norm)\n",
    "# print(\"Accuracy: \", svm.score(data_test, target_test))\n",
    "print(\"Accuracy: \", accuracy_score(target_test, prediction))\n",
    "labels = [\"Assenza di patologia\", \"Malattia di Alzheimer\",  \"Disturbo cognitivo lieve\", \"Disturbo depressivo\"]\n",
    "df_cm = pd.DataFrame(confusion_matrix(target_test, prediction, labels= labels, sample_weight=None, normalize=None), columns = labels)\n",
    "df_cm.insert(0, \"Conf. matrix\", labels)\n",
    "df_cm"
   ]
  },
  {
   "cell_type": "markdown",
   "metadata": {},
   "source": [
    "## Cross validation on entire dataset"
   ]
  },
  {
   "cell_type": "code",
   "execution_count": 10,
   "metadata": {},
   "outputs": [
    {
     "name": "stdout",
     "output_type": "stream",
     "text": [
      "Accuracy:  0.6858006042296072\n"
     ]
    },
    {
     "name": "stderr",
     "output_type": "stream",
     "text": [
      "[Parallel(n_jobs=1)]: Using backend SequentialBackend with 1 concurrent workers.\n",
      "[Parallel(n_jobs=1)]: Done   1 out of   1 | elapsed:    0.0s remaining:    0.0s\n",
      "[Parallel(n_jobs=1)]: Done   2 out of   2 | elapsed:    0.0s remaining:    0.0s\n",
      "[Parallel(n_jobs=1)]: Done   3 out of   3 | elapsed:    0.0s remaining:    0.0s\n",
      "[Parallel(n_jobs=1)]: Done   4 out of   4 | elapsed:    0.0s remaining:    0.0s\n",
      "[Parallel(n_jobs=1)]: Done  10 out of  10 | elapsed:    0.0s finished\n"
     ]
    },
    {
     "data": {
      "text/html": [
       "<div>\n",
       "<style scoped>\n",
       "    .dataframe tbody tr th:only-of-type {\n",
       "        vertical-align: middle;\n",
       "    }\n",
       "\n",
       "    .dataframe tbody tr th {\n",
       "        vertical-align: top;\n",
       "    }\n",
       "\n",
       "    .dataframe thead th {\n",
       "        text-align: right;\n",
       "    }\n",
       "</style>\n",
       "<table border=\"1\" class=\"dataframe\">\n",
       "  <thead>\n",
       "    <tr style=\"text-align: right;\">\n",
       "      <th></th>\n",
       "      <th>Conf. matrix</th>\n",
       "      <th>Assenza di patologia</th>\n",
       "      <th>Malattia di Alzheimer</th>\n",
       "      <th>Disturbo cognitivo lieve</th>\n",
       "      <th>Disturbo depressivo</th>\n",
       "    </tr>\n",
       "  </thead>\n",
       "  <tbody>\n",
       "    <tr>\n",
       "      <th>0</th>\n",
       "      <td>Assenza di patologia</td>\n",
       "      <td>189</td>\n",
       "      <td>14</td>\n",
       "      <td>0</td>\n",
       "      <td>0</td>\n",
       "    </tr>\n",
       "    <tr>\n",
       "      <th>1</th>\n",
       "      <td>Malattia di Alzheimer</td>\n",
       "      <td>26</td>\n",
       "      <td>38</td>\n",
       "      <td>0</td>\n",
       "      <td>0</td>\n",
       "    </tr>\n",
       "    <tr>\n",
       "      <th>2</th>\n",
       "      <td>Disturbo cognitivo lieve</td>\n",
       "      <td>21</td>\n",
       "      <td>20</td>\n",
       "      <td>0</td>\n",
       "      <td>0</td>\n",
       "    </tr>\n",
       "    <tr>\n",
       "      <th>3</th>\n",
       "      <td>Disturbo depressivo</td>\n",
       "      <td>17</td>\n",
       "      <td>6</td>\n",
       "      <td>0</td>\n",
       "      <td>0</td>\n",
       "    </tr>\n",
       "  </tbody>\n",
       "</table>\n",
       "</div>"
      ],
      "text/plain": [
       "               Conf. matrix  Assenza di patologia  Malattia di Alzheimer  \\\n",
       "0      Assenza di patologia                   189                     14   \n",
       "1     Malattia di Alzheimer                    26                     38   \n",
       "2  Disturbo cognitivo lieve                    21                     20   \n",
       "3       Disturbo depressivo                    17                      6   \n",
       "\n",
       "   Disturbo cognitivo lieve  Disturbo depressivo  \n",
       "0                         0                    0  \n",
       "1                         0                    0  \n",
       "2                         0                    0  \n",
       "3                         0                    0  "
      ]
     },
     "execution_count": 10,
     "metadata": {},
     "output_type": "execute_result"
    }
   ],
   "source": [
    "# Normalize data\n",
    "data_norm = minmax_scale(df_data_num, feature_range=(0, 1), axis=0, copy=True)\n",
    "\n",
    "model = SVC(kernel=\"poly\", C = 1,  degree = 2, gamma = 0.5)\n",
    "\n",
    "cv = StratifiedKFold(n_splits=10, shuffle=True, random_state=1)\n",
    "prediction = cross_val_predict(model, data_norm, df_target.values, cv=cv, verbose=5)\n",
    "\n",
    "\n",
    "# print(\"Accuracy: %0.2f (+/- %0.2f)\" % (scores.mean(), scores.std() * 2))\n",
    "print(\"Accuracy: \", accuracy_score(df_target.values, prediction))\n",
    "labels = [\"Assenza di patologia\", \"Malattia di Alzheimer\",  \"Disturbo cognitivo lieve\", \"Disturbo depressivo\"]\n",
    "df_cm = pd.DataFrame(confusion_matrix(df_target.values, prediction, labels = labels, sample_weight=None, normalize=None), columns = labels)\n",
    "df_cm.insert(0, \"Conf. matrix\", labels)\n",
    "df_cm\n"
   ]
  },
  {
   "cell_type": "markdown",
   "metadata": {},
   "source": [
    "# New instances prediction"
   ]
  },
  {
   "cell_type": "code",
   "execution_count": 12,
   "metadata": {},
   "outputs": [
    {
     "data": {
      "text/html": [
       "<div>\n",
       "<style scoped>\n",
       "    .dataframe tbody tr th:only-of-type {\n",
       "        vertical-align: middle;\n",
       "    }\n",
       "\n",
       "    .dataframe tbody tr th {\n",
       "        vertical-align: top;\n",
       "    }\n",
       "\n",
       "    .dataframe thead th {\n",
       "        text-align: right;\n",
       "    }\n",
       "</style>\n",
       "<table border=\"1\" class=\"dataframe\">\n",
       "  <thead>\n",
       "    <tr style=\"text-align: right;\">\n",
       "      <th></th>\n",
       "      <th>ID</th>\n",
       "    </tr>\n",
       "    <tr>\n",
       "      <th>Patologia</th>\n",
       "      <th></th>\n",
       "    </tr>\n",
       "  </thead>\n",
       "  <tbody>\n",
       "    <tr>\n",
       "      <th>Assenza di patologia</th>\n",
       "      <td>120</td>\n",
       "    </tr>\n",
       "    <tr>\n",
       "      <th>Malattia di Alzheimer</th>\n",
       "      <td>44</td>\n",
       "    </tr>\n",
       "  </tbody>\n",
       "</table>\n",
       "</div>"
      ],
      "text/plain": [
       "                        ID\n",
       "Patologia                 \n",
       "Assenza di patologia   120\n",
       "Malattia di Alzheimer   44"
      ]
     },
     "execution_count": 12,
     "metadata": {},
     "output_type": "execute_result"
    }
   ],
   "source": [
    "# Normalize data\n",
    "data_norm = minmax_scale(df_data_num, feature_range=(0, 1), axis=0, copy=True)\n",
    "data_test_num_norm = minmax_scale(df_data_test_num, feature_range=(0, 1), axis=0, copy=True)\n",
    "\n",
    "model = SVC(kernel=\"poly\", C = 1,  degree = 2, gamma = 0.5)\n",
    "model.fit(data_norm,df_target.values)\n",
    "prediction = model.predict(data_test_num_norm)\n",
    "\n",
    "df_sub = df_clean_test[[\"ID\"]]\n",
    "df_sub.insert(len(df_sub.columns), \"Patologia\", prediction)\n",
    "\n",
    "df_sub.groupby(\"Patologia\").count()"
   ]
  },
  {
   "cell_type": "code",
   "execution_count": null,
   "metadata": {},
   "outputs": [],
   "source": []
  }
 ],
 "metadata": {
  "kernelspec": {
   "display_name": "Python 3",
   "language": "python",
   "name": "python3"
  },
  "language_info": {
   "codemirror_mode": {
    "name": "ipython",
    "version": 3
   },
   "file_extension": ".py",
   "mimetype": "text/x-python",
   "name": "python",
   "nbconvert_exporter": "python",
   "pygments_lexer": "ipython3",
   "version": "3.8.3"
  }
 },
 "nbformat": 4,
 "nbformat_minor": 4
}
