{
  "nbformat": 4,
  "nbformat_minor": 0,
  "metadata": {
    "kernelspec": {
      "display_name": "Python 3",
      "language": "python",
      "name": "python3"
    },
    "language_info": {
      "codemirror_mode": {
        "name": "ipython",
        "version": 3
      },
      "file_extension": ".py",
      "mimetype": "text/x-python",
      "name": "python",
      "nbconvert_exporter": "python",
      "pygments_lexer": "ipython3",
      "version": "3.8.3"
    },
    "colab": {
      "name": "ContestImputationSemplice.ipynb",
      "provenance": [],
      "collapsed_sections": []
    }
  },
  "cells": [
    {
      "cell_type": "code",
      "metadata": {
        "id": "vqO4oT1pyC0d"
      },
      "source": [
        "from sklearn.datasets import load_iris\n",
        "from matplotlib import pyplot as plt\n",
        "from sklearn.svm import SVC\n",
        "from sklearn.linear_model import LogisticRegression\n",
        "from sklearn.model_selection import GridSearchCV, cross_val_score, cross_val_predict, KFold, train_test_split, StratifiedKFold\n",
        "from sklearn.metrics import accuracy_score, confusion_matrix\n",
        "from sklearn.impute import SimpleImputer\n",
        "from sklearn.preprocessing import minmax_scale\n",
        "from sklearn.neighbors import KNeighborsClassifier\n",
        "from sklearn.neural_network import MLPClassifier\n",
        "from sklearn.tree import DecisionTreeClassifier\n",
        "import numpy as np\n",
        "import pandas as pd"
      ],
      "execution_count": 1,
      "outputs": []
    },
    {
      "cell_type": "markdown",
      "metadata": {
        "id": "F_cJ3hI7yC07"
      },
      "source": [
        "# Data Preparation"
      ]
    },
    {
      "cell_type": "markdown",
      "metadata": {
        "id": "lCDGnR-HyC0-"
      },
      "source": [
        "## Data cleaning"
      ]
    },
    {
      "cell_type": "code",
      "metadata": {
        "id": "_4usqhnryC1B",
        "outputId": "c7ab240c-2069-4faa-e00e-4ea95de1daa5",
        "colab": {
          "base_uri": "https://localhost:8080/",
          "height": 313
        }
      },
      "source": [
        "# Load dataset\n",
        "df = pd.read_excel('TrainingSet.xlsx')\n",
        "df_test = pd.read_excel('TestSet.xlsx')\n",
        "\n",
        "# Convert Sex attribute in UpperCase\n",
        "df['Sesso'] = df['Sesso'].str.upper()\n",
        "\n",
        "# Remove CAP attribute\n",
        "df = df.drop(columns =['CAP'])\n",
        "df_test = df_test.drop(columns =['CAP'])\n",
        "# df = df.drop(columns =['Sesso'])\n",
        "# df = df.drop(columns =['ID'])\n",
        "\n",
        "# Remove unlabeled instances\n",
        "df = df.loc[df[\"Patologia\"] == df[\"Patologia\"]]\n",
        "\n",
        "dim = df.shape[0]\n",
        "df.head()"
      ],
      "execution_count": 2,
      "outputs": [
        {
          "output_type": "execute_result",
          "data": {
            "text/html": [
              "<div>\n",
              "<style scoped>\n",
              "    .dataframe tbody tr th:only-of-type {\n",
              "        vertical-align: middle;\n",
              "    }\n",
              "\n",
              "    .dataframe tbody tr th {\n",
              "        vertical-align: top;\n",
              "    }\n",
              "\n",
              "    .dataframe thead th {\n",
              "        text-align: right;\n",
              "    }\n",
              "</style>\n",
              "<table border=\"1\" class=\"dataframe\">\n",
              "  <thead>\n",
              "    <tr style=\"text-align: right;\">\n",
              "      <th></th>\n",
              "      <th>ID</th>\n",
              "      <th>Scolarita</th>\n",
              "      <th>Eta</th>\n",
              "      <th>Sesso</th>\n",
              "      <th>MMSE_PG</th>\n",
              "      <th>MMSE_PC</th>\n",
              "      <th>MMSE_PE</th>\n",
              "      <th>MMSE_ESITO</th>\n",
              "      <th>CLOCKTEST_PG</th>\n",
              "      <th>CLOCKTEST_PE</th>\n",
              "      <th>CLOCKTEST_ESITO</th>\n",
              "      <th>COPIAFIGURAREY_PG</th>\n",
              "      <th>COPIAFIGURAREY_PC</th>\n",
              "      <th>COPIAFIGURAREY_PE</th>\n",
              "      <th>COPIAFIGURAREY_ESITO</th>\n",
              "      <th>PAROLEREYIMM_PG</th>\n",
              "      <th>PAROLEREYIMM_PC</th>\n",
              "      <th>PAROLEREYIMM_PE</th>\n",
              "      <th>PAROLEREYIMM_ESITO</th>\n",
              "      <th>PAROLEREYDIFF_PG</th>\n",
              "      <th>PAROLEREYDIFF_PC</th>\n",
              "      <th>PAROLEREYDIFF_PE</th>\n",
              "      <th>PAROLEREYDIFF_ESITO</th>\n",
              "      <th>MEMORIAFIGURAREY_PG</th>\n",
              "      <th>MEMORIAFIGURAREY_PC</th>\n",
              "      <th>MEMORIAFIGURAREY_PE</th>\n",
              "      <th>MEMORIAFIGURAREY_ESITO</th>\n",
              "      <th>FAB_PG</th>\n",
              "      <th>FAB_PC</th>\n",
              "      <th>FAB_PE</th>\n",
              "      <th>FAB_ESITO</th>\n",
              "      <th>FLUENZAVERBFON_PG</th>\n",
              "      <th>FLUENZAVERBFON_PC</th>\n",
              "      <th>FLUENZAVERBFON_PE</th>\n",
              "      <th>FLUENZAVERBFON_ESITO</th>\n",
              "      <th>TESTMATRICIATTENTIVE_PG</th>\n",
              "      <th>TESTMATRICIATTENTIVE_PC</th>\n",
              "      <th>TESTMATRICIATTENTIVE_PE</th>\n",
              "      <th>TESTMATRICIATTENTIVE_ESITO</th>\n",
              "      <th>Patologia</th>\n",
              "    </tr>\n",
              "  </thead>\n",
              "  <tbody>\n",
              "    <tr>\n",
              "      <th>0</th>\n",
              "      <td>Row0</td>\n",
              "      <td>13.0</td>\n",
              "      <td>65.0</td>\n",
              "      <td>F</td>\n",
              "      <td>29.0</td>\n",
              "      <td>28.49</td>\n",
              "      <td>238.0</td>\n",
              "      <td>NORMA</td>\n",
              "      <td>5.0</td>\n",
              "      <td>7.0</td>\n",
              "      <td>DEFICIT</td>\n",
              "      <td>34.0</td>\n",
              "      <td>34.75</td>\n",
              "      <td>4.0</td>\n",
              "      <td>NORMA</td>\n",
              "      <td>28.0</td>\n",
              "      <td>29.3</td>\n",
              "      <td>0.0</td>\n",
              "      <td>DEFICIT</td>\n",
              "      <td>8.0</td>\n",
              "      <td>8.6</td>\n",
              "      <td>3.0</td>\n",
              "      <td>NORMA</td>\n",
              "      <td>5.0</td>\n",
              "      <td>8.50</td>\n",
              "      <td>0.0</td>\n",
              "      <td>DEFICIT</td>\n",
              "      <td>NaN</td>\n",
              "      <td>NaN</td>\n",
              "      <td>NaN</td>\n",
              "      <td>NaN</td>\n",
              "      <td>24.0</td>\n",
              "      <td>20.9</td>\n",
              "      <td>1.0</td>\n",
              "      <td>AI LIMITI INFERIORI DELLA NORMA</td>\n",
              "      <td>47.0</td>\n",
              "      <td>45.75</td>\n",
              "      <td>3.0</td>\n",
              "      <td>NORMA</td>\n",
              "      <td>Malattia di Alzheimer</td>\n",
              "    </tr>\n",
              "    <tr>\n",
              "      <th>1</th>\n",
              "      <td>Row1</td>\n",
              "      <td>8.0</td>\n",
              "      <td>70.0</td>\n",
              "      <td>M</td>\n",
              "      <td>27.0</td>\n",
              "      <td>28.20</td>\n",
              "      <td>238.0</td>\n",
              "      <td>NORMA</td>\n",
              "      <td>6.0</td>\n",
              "      <td>5.0</td>\n",
              "      <td>NORMA</td>\n",
              "      <td>34.0</td>\n",
              "      <td>36.00</td>\n",
              "      <td>4.0</td>\n",
              "      <td>NORMA</td>\n",
              "      <td>28.0</td>\n",
              "      <td>33.9</td>\n",
              "      <td>2.0</td>\n",
              "      <td>NORMA</td>\n",
              "      <td>6.0</td>\n",
              "      <td>7.9</td>\n",
              "      <td>3.0</td>\n",
              "      <td>NORMA</td>\n",
              "      <td>7.0</td>\n",
              "      <td>9.75</td>\n",
              "      <td>1.0</td>\n",
              "      <td>AI LIMITI INFERIORI DELLA NORMA</td>\n",
              "      <td>NaN</td>\n",
              "      <td>NaN</td>\n",
              "      <td>NaN</td>\n",
              "      <td>NaN</td>\n",
              "      <td>31.0</td>\n",
              "      <td>34.9</td>\n",
              "      <td>4.0</td>\n",
              "      <td>NORMA</td>\n",
              "      <td>NaN</td>\n",
              "      <td>NaN</td>\n",
              "      <td>NaN</td>\n",
              "      <td>NaN</td>\n",
              "      <td>Assenza di patologia</td>\n",
              "    </tr>\n",
              "    <tr>\n",
              "      <th>2</th>\n",
              "      <td>Row2</td>\n",
              "      <td>12.0</td>\n",
              "      <td>70.0</td>\n",
              "      <td>F</td>\n",
              "      <td>27.0</td>\n",
              "      <td>26.86</td>\n",
              "      <td>238.0</td>\n",
              "      <td>NORMA</td>\n",
              "      <td>NaN</td>\n",
              "      <td>7.0</td>\n",
              "      <td>DEFICIT</td>\n",
              "      <td>NaN</td>\n",
              "      <td>18.50</td>\n",
              "      <td>0.0</td>\n",
              "      <td>DEFICIT</td>\n",
              "      <td>21.0</td>\n",
              "      <td>26.9</td>\n",
              "      <td>0.0</td>\n",
              "      <td>DEFICIT</td>\n",
              "      <td>6.0</td>\n",
              "      <td>7.9</td>\n",
              "      <td>3.0</td>\n",
              "      <td>NORMA</td>\n",
              "      <td>5.0</td>\n",
              "      <td>9.75</td>\n",
              "      <td>1.0</td>\n",
              "      <td>AI LIMITI INFERIORI DELLA NORMA</td>\n",
              "      <td>NaN</td>\n",
              "      <td>NaN</td>\n",
              "      <td>NaN</td>\n",
              "      <td>NaN</td>\n",
              "      <td>24.0</td>\n",
              "      <td>27.9</td>\n",
              "      <td>3.0</td>\n",
              "      <td>NORMA</td>\n",
              "      <td>45.0</td>\n",
              "      <td>47.00</td>\n",
              "      <td>3.0</td>\n",
              "      <td>NORMA</td>\n",
              "      <td>Malattia di Alzheimer</td>\n",
              "    </tr>\n",
              "    <tr>\n",
              "      <th>3</th>\n",
              "      <td>Row3</td>\n",
              "      <td>8.0</td>\n",
              "      <td>66.0</td>\n",
              "      <td>M</td>\n",
              "      <td>17.0</td>\n",
              "      <td>17.53</td>\n",
              "      <td>238.0</td>\n",
              "      <td>DEFICIT</td>\n",
              "      <td>2.0</td>\n",
              "      <td>5.0</td>\n",
              "      <td>DEFICIT</td>\n",
              "      <td>2.0</td>\n",
              "      <td>3.50</td>\n",
              "      <td>0.0</td>\n",
              "      <td>DEFICIT</td>\n",
              "      <td>12.0</td>\n",
              "      <td>16.0</td>\n",
              "      <td>0.0</td>\n",
              "      <td>DEFICIT</td>\n",
              "      <td>0.0</td>\n",
              "      <td>1.3</td>\n",
              "      <td>0.0</td>\n",
              "      <td>DEFICIT</td>\n",
              "      <td>2.0</td>\n",
              "      <td>3.50</td>\n",
              "      <td>0.0</td>\n",
              "      <td>DEFICIT</td>\n",
              "      <td>6.0</td>\n",
              "      <td>NaN</td>\n",
              "      <td>1203.0</td>\n",
              "      <td>DEFICIT</td>\n",
              "      <td>4.0</td>\n",
              "      <td>7.2</td>\n",
              "      <td>0.0</td>\n",
              "      <td>DEFICIT</td>\n",
              "      <td>7.0</td>\n",
              "      <td>5.25</td>\n",
              "      <td>0.0</td>\n",
              "      <td>DEFICIT</td>\n",
              "      <td>Malattia di Alzheimer</td>\n",
              "    </tr>\n",
              "    <tr>\n",
              "      <th>4</th>\n",
              "      <td>Row4</td>\n",
              "      <td>7.0</td>\n",
              "      <td>82.0</td>\n",
              "      <td>M</td>\n",
              "      <td>25.0</td>\n",
              "      <td>25.00</td>\n",
              "      <td>238.0</td>\n",
              "      <td>NORMA</td>\n",
              "      <td>1.0</td>\n",
              "      <td>3.0</td>\n",
              "      <td>DEFICIT</td>\n",
              "      <td>15.0</td>\n",
              "      <td>17.75</td>\n",
              "      <td>0.0</td>\n",
              "      <td>DEFICIT</td>\n",
              "      <td>18.0</td>\n",
              "      <td>30.2</td>\n",
              "      <td>1.0</td>\n",
              "      <td>AI LIMITI INFERIORI DELLA NORMA</td>\n",
              "      <td>3.0</td>\n",
              "      <td>6.8</td>\n",
              "      <td>2.0</td>\n",
              "      <td>NORMA</td>\n",
              "      <td>0.0</td>\n",
              "      <td>47.50</td>\n",
              "      <td>0.0</td>\n",
              "      <td>DEFICIT</td>\n",
              "      <td>7.0</td>\n",
              "      <td>NaN</td>\n",
              "      <td>1203.0</td>\n",
              "      <td>DEFICIT</td>\n",
              "      <td>11.0</td>\n",
              "      <td>21.4</td>\n",
              "      <td>2.0</td>\n",
              "      <td>NORMA</td>\n",
              "      <td>37.0</td>\n",
              "      <td>41.75</td>\n",
              "      <td>2.0</td>\n",
              "      <td>NORMA</td>\n",
              "      <td>Malattia di Alzheimer</td>\n",
              "    </tr>\n",
              "  </tbody>\n",
              "</table>\n",
              "</div>"
            ],
            "text/plain": [
              "     ID  Scolarita  ...  TESTMATRICIATTENTIVE_ESITO              Patologia\n",
              "0  Row0       13.0  ...                       NORMA  Malattia di Alzheimer\n",
              "1  Row1        8.0  ...                         NaN   Assenza di patologia\n",
              "2  Row2       12.0  ...                       NORMA  Malattia di Alzheimer\n",
              "3  Row3        8.0  ...                     DEFICIT  Malattia di Alzheimer\n",
              "4  Row4        7.0  ...                       NORMA  Malattia di Alzheimer\n",
              "\n",
              "[5 rows x 40 columns]"
            ]
          },
          "metadata": {
            "tags": []
          },
          "execution_count": 2
        }
      ]
    },
    {
      "cell_type": "code",
      "metadata": {
        "jupyter": {
          "source_hidden": true
        },
        "id": "jCmTd2DtyC1P"
      },
      "source": [
        "def new_column(df, df_clean, feature):\n",
        "    col_pc = feature + '_PC'\n",
        "    col_pg = feature + '_PG'\n",
        "    col_es = feature + '_ESITO'\n",
        "    col_new = feature\n",
        "    tresh = const.const_dict[\"TRESHOLD\"]\n",
        "\n",
        "    for i in range(dim_df):\n",
        "\n",
        "        if col_pc in df.columns:\n",
        "\n",
        "            if (df.loc[i, col_pc] == df.loc[i, col_pc]) and (df.loc[i,col_pg] == df.loc[i,col_pg]):\n",
        "                if abs(df.loc[i, col_pc] - df.loc[i,col_pg]) < tresh:\n",
        "                    df_clean.loc[i,col_new] = df.loc[i, col_pc]\n",
        "                else:\n",
        "                    df_clean.loc[i,col_new] = df.loc[i, col_pg]\n",
        "\n",
        "            elif (df.loc[i, col_pc] != df.loc[i, col_pc]) and (df.loc[i,col_pg] == df.loc[i,col_pg]):\n",
        "                df_clean.loc[i,col_new] = df.loc[i, col_pg] \n",
        "            elif (df.loc[i, col_pc] == df.loc[i, col_pc]) and (df.loc[i,col_pg] != df.loc[i,col_pg]):\n",
        "                df_clean.loc[i,col_new] = df.loc[i, col_pc]\n",
        "\n",
        "            elif df.loc[i,col_es] == df.loc[i,col_es]:\n",
        "                if df.loc[i,col_es] == \"NORMA\":\n",
        "                    df_clean.loc[i,col_new] = (const.const_dict[col_new + \"_MAX\"] + const.const_dict[col_new + \"_CUTOFF\"])/2\n",
        "                elif df.loc[i,col_es] == \"DEFICIT\":\n",
        "                    df_clean.loc[i,col_new] = const.const_dict[col_new + \"_CUTOFF\"]/2\n",
        "                else:\n",
        "                    df_clean.loc[i,col_new] = const.const_dict[col_new + \"_CUTOFF\"]\n",
        "\n",
        "            # else:\n",
        "                #Null\n",
        "\n",
        "        else:\n",
        "            if df.loc[i,col_pg] == df.loc[i,col_pg]:\n",
        "                df_clean.loc[i,col_new] = df.loc[i, col_pg]\n",
        "                \n",
        "            elif df.loc[i,col_es] == df.loc[i,col_es]:\n",
        "                if df.loc[i,col_es] == \"NORMA\":\n",
        "                    df_clean.loc[i,col_new] = (const.const_dict[col_new + \"_MAX\"] + const.const_dict[col_new + \"_CUTOFF\"])/2\n",
        "                elif df.loc[i,col_es] == \"DEFICIT\":\n",
        "                    df_clean.loc[i,col_new] = const.const_dict[col_new + \"_CUTOFF\"]/2\n",
        "                else:\n",
        "                    df_clean.loc[i,col_new] = const.const_dict[col_new + \"_CUTOFF\"]\n",
        "            # else:\n",
        "                #Null\n",
        "\n",
        "# plt.hist(df_clean['MMSE'], bins = 20)"
      ],
      "execution_count": 3,
      "outputs": []
    },
    {
      "cell_type": "markdown",
      "metadata": {
        "id": "Gs1SGns7yC1Y"
      },
      "source": [
        "## Imputation"
      ]
    },
    {
      "cell_type": "code",
      "metadata": {
        "id": "hIBybzUFyC1Z"
      },
      "source": [
        "# Imputation\n",
        "num_col = [c for c in df.columns if not(\"_esito\" in c.lower()) and not(\"_pe\" in c.lower()) \n",
        "           and not(\"patologia\" in c.lower()) and not(\"sesso\" in c.lower()) and not(\"id\" in c.lower())]\n",
        "enum_col = [c for c in df.columns if(\"_esito\" in c.lower()) or (\"sesso\" in c.lower())]\n",
        "\n",
        "df_imp_num = df.loc[:,num_col]\n",
        "df_imp_enum = df.loc[:,enum_col]\n",
        "\n",
        "columns = df_imp_num.columns.append(df_imp_enum.columns).insert(0, \"ID\")\n",
        "\n",
        "num_imputer = SimpleImputer(missing_values=np.nan, strategy='median')\n",
        "num_imputer.fit(df_imp_num.values)\n",
        "df_imp_num = pd.DataFrame(num_imputer.transform(df_imp_num.values))\n",
        "\n",
        "enum_imputer = SimpleImputer(missing_values=np.nan, strategy='most_frequent')\n",
        "enum_imputer.fit(df_imp_enum.values)\n",
        "df_imp_enum = pd.DataFrame(enum_imputer.transform(df_imp_enum.values))\n",
        "\n",
        "df_imp_num.insert(0, \"ID\", df[\"ID\"])\n",
        "\n",
        "df_imp_enum.insert(0, \"ID\", df[\"ID\"])\n",
        "# df_imp_num\n",
        "\n",
        "# df_imp_num.append(df_imp_enum, axis = 1)\n",
        "\n",
        "result = pd.merge(df_imp_num, df_imp_enum, on = \"ID\")\n",
        "result.columns = columns\n",
        "result[\"Patologia\"] = df[\"Patologia\"]\n",
        "result\n",
        "\n",
        "# Test set imputation\n",
        "num_col = [c for c in df_test.columns if not(\"_esito\" in c.lower()) and not(\"_pe\" in c.lower()) \n",
        "           and not(\"sesso\" in c.lower()) and not(\"id\" in c.lower())]\n",
        "enum_col = [c for c in df_test.columns if(\"_esito\" in c.lower()) or (\"sesso\" in c.lower())]\n",
        "\n",
        "df_imp_num = df_test.loc[:,num_col]\n",
        "df_imp_enum = df_test.loc[:,enum_col]\n",
        "\n",
        "df_imp_num = pd.DataFrame(num_imputer.transform(df_imp_num.values))\n",
        "df_imp_enum = pd.DataFrame(enum_imputer.transform(df_imp_enum.values))\n",
        "\n",
        "df_imp_num.insert(0, \"ID\", df_test[\"ID\"])\n",
        "df_imp_enum.insert(0, \"ID\", df_test[\"ID\"])\n",
        "\n",
        "result_test = pd.merge(df_imp_num, df_imp_enum, on = \"ID\")\n",
        "result_test.columns = columns\n"
      ],
      "execution_count": 3,
      "outputs": []
    },
    {
      "cell_type": "markdown",
      "metadata": {
        "id": "GDvbq29fyC1h"
      },
      "source": [
        "# Model Selection"
      ]
    },
    {
      "cell_type": "code",
      "metadata": {
        "id": "PZ1SH195yC1i",
        "outputId": "a8e891f0-4b04-4585-b124-041799432b76",
        "colab": {
          "base_uri": "https://localhost:8080/",
          "height": 444
        }
      },
      "source": [
        "# Splitting Training data and prediction\n",
        "num_col = [c for c in df.columns if not(\"_esito\" in c.lower()) and not(\"_pe\" in c.lower()) \n",
        "           and not(\"patologia\" in c.lower()) and not(\"sesso\" in c.lower()) and not(\"id\" in c.lower())]\n",
        "nom_col = [c for c in df.columns if(\"_esito\" in c.lower()) or (\"sesso\" in c.lower()) or (\"patologia\" in c.lower())]\n",
        "\n",
        "df_data_num = result[num_col]\n",
        "df_data_nom = result[nom_col]\n",
        "df_data_num_nom = result.drop([\"ID\", \"Patologia\"], axis = 1)\n",
        "df_target = result['Patologia']\n",
        "\n",
        "\n",
        "# Splitting Test Set data\n",
        "num_col = [c for c in df_test.columns if not(\"_esito\" in c.lower()) and not(\"_pe\" in c.lower()) \n",
        "           and not(\"sesso\" in c.lower()) and not(\"id\" in c.lower())]\n",
        "nom_col = [c for c in df_test.columns if(\"_esito\" in c.lower()) or (\"sesso\" in c.lower())]\n",
        "\n",
        "df_data_test_num = result_test[num_col]\n",
        "df_data_test_nom = result_test[nom_col]\n",
        "df_data_test_num_nom = result_test.drop([\"ID\"], axis = 1)\n",
        "df_data_test_num"
      ],
      "execution_count": 4,
      "outputs": [
        {
          "output_type": "execute_result",
          "data": {
            "text/html": [
              "<div>\n",
              "<style scoped>\n",
              "    .dataframe tbody tr th:only-of-type {\n",
              "        vertical-align: middle;\n",
              "    }\n",
              "\n",
              "    .dataframe tbody tr th {\n",
              "        vertical-align: top;\n",
              "    }\n",
              "\n",
              "    .dataframe thead th {\n",
              "        text-align: right;\n",
              "    }\n",
              "</style>\n",
              "<table border=\"1\" class=\"dataframe\">\n",
              "  <thead>\n",
              "    <tr style=\"text-align: right;\">\n",
              "      <th></th>\n",
              "      <th>Scolarita</th>\n",
              "      <th>Eta</th>\n",
              "      <th>MMSE_PG</th>\n",
              "      <th>MMSE_PC</th>\n",
              "      <th>CLOCKTEST_PG</th>\n",
              "      <th>COPIAFIGURAREY_PG</th>\n",
              "      <th>COPIAFIGURAREY_PC</th>\n",
              "      <th>PAROLEREYIMM_PG</th>\n",
              "      <th>PAROLEREYIMM_PC</th>\n",
              "      <th>PAROLEREYDIFF_PG</th>\n",
              "      <th>PAROLEREYDIFF_PC</th>\n",
              "      <th>MEMORIAFIGURAREY_PG</th>\n",
              "      <th>MEMORIAFIGURAREY_PC</th>\n",
              "      <th>FAB_PG</th>\n",
              "      <th>FAB_PC</th>\n",
              "      <th>FLUENZAVERBFON_PG</th>\n",
              "      <th>FLUENZAVERBFON_PC</th>\n",
              "      <th>TESTMATRICIATTENTIVE_PG</th>\n",
              "      <th>TESTMATRICIATTENTIVE_PC</th>\n",
              "    </tr>\n",
              "  </thead>\n",
              "  <tbody>\n",
              "    <tr>\n",
              "      <th>0</th>\n",
              "      <td>13.0</td>\n",
              "      <td>81.0</td>\n",
              "      <td>25.0</td>\n",
              "      <td>25.00</td>\n",
              "      <td>7.0</td>\n",
              "      <td>34.0</td>\n",
              "      <td>36.00</td>\n",
              "      <td>24.0</td>\n",
              "      <td>31.4</td>\n",
              "      <td>0.0</td>\n",
              "      <td>2.6</td>\n",
              "      <td>3.0</td>\n",
              "      <td>6.75</td>\n",
              "      <td>14.0</td>\n",
              "      <td>13.245</td>\n",
              "      <td>14.0</td>\n",
              "      <td>13.5</td>\n",
              "      <td>52.0</td>\n",
              "      <td>52.50</td>\n",
              "    </tr>\n",
              "    <tr>\n",
              "      <th>1</th>\n",
              "      <td>5.0</td>\n",
              "      <td>76.0</td>\n",
              "      <td>24.0</td>\n",
              "      <td>26.03</td>\n",
              "      <td>4.0</td>\n",
              "      <td>31.0</td>\n",
              "      <td>35.25</td>\n",
              "      <td>20.0</td>\n",
              "      <td>30.0</td>\n",
              "      <td>3.0</td>\n",
              "      <td>6.1</td>\n",
              "      <td>18.0</td>\n",
              "      <td>25.50</td>\n",
              "      <td>9.0</td>\n",
              "      <td>13.245</td>\n",
              "      <td>14.0</td>\n",
              "      <td>23.4</td>\n",
              "      <td>45.0</td>\n",
              "      <td>44.75</td>\n",
              "    </tr>\n",
              "    <tr>\n",
              "      <th>2</th>\n",
              "      <td>8.0</td>\n",
              "      <td>66.0</td>\n",
              "      <td>28.0</td>\n",
              "      <td>28.53</td>\n",
              "      <td>7.0</td>\n",
              "      <td>14.5</td>\n",
              "      <td>16.00</td>\n",
              "      <td>29.0</td>\n",
              "      <td>33.0</td>\n",
              "      <td>4.0</td>\n",
              "      <td>5.3</td>\n",
              "      <td>10.0</td>\n",
              "      <td>11.25</td>\n",
              "      <td>14.0</td>\n",
              "      <td>13.245</td>\n",
              "      <td>20.0</td>\n",
              "      <td>23.2</td>\n",
              "      <td>38.0</td>\n",
              "      <td>44.75</td>\n",
              "    </tr>\n",
              "    <tr>\n",
              "      <th>3</th>\n",
              "      <td>10.0</td>\n",
              "      <td>62.0</td>\n",
              "      <td>27.0</td>\n",
              "      <td>26.49</td>\n",
              "      <td>7.0</td>\n",
              "      <td>35.0</td>\n",
              "      <td>35.25</td>\n",
              "      <td>25.0</td>\n",
              "      <td>27.3</td>\n",
              "      <td>5.0</td>\n",
              "      <td>5.7</td>\n",
              "      <td>10.0</td>\n",
              "      <td>10.00</td>\n",
              "      <td>14.0</td>\n",
              "      <td>13.245</td>\n",
              "      <td>41.0</td>\n",
              "      <td>43.5</td>\n",
              "      <td>40.0</td>\n",
              "      <td>39.25</td>\n",
              "    </tr>\n",
              "    <tr>\n",
              "      <th>4</th>\n",
              "      <td>14.0</td>\n",
              "      <td>59.0</td>\n",
              "      <td>25.0</td>\n",
              "      <td>23.31</td>\n",
              "      <td>0.0</td>\n",
              "      <td>25.0</td>\n",
              "      <td>24.00</td>\n",
              "      <td>39.0</td>\n",
              "      <td>37.0</td>\n",
              "      <td>8.0</td>\n",
              "      <td>7.5</td>\n",
              "      <td>7.0</td>\n",
              "      <td>7.50</td>\n",
              "      <td>15.0</td>\n",
              "      <td>13.245</td>\n",
              "      <td>32.0</td>\n",
              "      <td>27.8</td>\n",
              "      <td>38.0</td>\n",
              "      <td>34.00</td>\n",
              "    </tr>\n",
              "    <tr>\n",
              "      <th>...</th>\n",
              "      <td>...</td>\n",
              "      <td>...</td>\n",
              "      <td>...</td>\n",
              "      <td>...</td>\n",
              "      <td>...</td>\n",
              "      <td>...</td>\n",
              "      <td>...</td>\n",
              "      <td>...</td>\n",
              "      <td>...</td>\n",
              "      <td>...</td>\n",
              "      <td>...</td>\n",
              "      <td>...</td>\n",
              "      <td>...</td>\n",
              "      <td>...</td>\n",
              "      <td>...</td>\n",
              "      <td>...</td>\n",
              "      <td>...</td>\n",
              "      <td>...</td>\n",
              "      <td>...</td>\n",
              "    </tr>\n",
              "    <tr>\n",
              "      <th>159</th>\n",
              "      <td>5.0</td>\n",
              "      <td>80.0</td>\n",
              "      <td>8.0</td>\n",
              "      <td>27.97</td>\n",
              "      <td>8.0</td>\n",
              "      <td>31.0</td>\n",
              "      <td>31.00</td>\n",
              "      <td>29.0</td>\n",
              "      <td>32.9</td>\n",
              "      <td>5.0</td>\n",
              "      <td>6.0</td>\n",
              "      <td>10.0</td>\n",
              "      <td>10.00</td>\n",
              "      <td>14.0</td>\n",
              "      <td>13.245</td>\n",
              "      <td>29.0</td>\n",
              "      <td>29.5</td>\n",
              "      <td>45.0</td>\n",
              "      <td>44.75</td>\n",
              "    </tr>\n",
              "    <tr>\n",
              "      <th>160</th>\n",
              "      <td>8.0</td>\n",
              "      <td>72.0</td>\n",
              "      <td>25.0</td>\n",
              "      <td>26.20</td>\n",
              "      <td>9.0</td>\n",
              "      <td>30.0</td>\n",
              "      <td>32.00</td>\n",
              "      <td>21.0</td>\n",
              "      <td>26.9</td>\n",
              "      <td>0.0</td>\n",
              "      <td>1.9</td>\n",
              "      <td>10.0</td>\n",
              "      <td>9.25</td>\n",
              "      <td>14.0</td>\n",
              "      <td>13.245</td>\n",
              "      <td>23.0</td>\n",
              "      <td>26.9</td>\n",
              "      <td>37.0</td>\n",
              "      <td>36.50</td>\n",
              "    </tr>\n",
              "    <tr>\n",
              "      <th>161</th>\n",
              "      <td>13.0</td>\n",
              "      <td>77.0</td>\n",
              "      <td>29.0</td>\n",
              "      <td>28.86</td>\n",
              "      <td>7.0</td>\n",
              "      <td>32.0</td>\n",
              "      <td>33.50</td>\n",
              "      <td>28.0</td>\n",
              "      <td>33.2</td>\n",
              "      <td>5.0</td>\n",
              "      <td>6.9</td>\n",
              "      <td>10.0</td>\n",
              "      <td>19.25</td>\n",
              "      <td>18.0</td>\n",
              "      <td>13.245</td>\n",
              "      <td>27.0</td>\n",
              "      <td>25.5</td>\n",
              "      <td>52.0</td>\n",
              "      <td>53.75</td>\n",
              "    </tr>\n",
              "    <tr>\n",
              "      <th>162</th>\n",
              "      <td>17.0</td>\n",
              "      <td>62.0</td>\n",
              "      <td>29.0</td>\n",
              "      <td>27.46</td>\n",
              "      <td>10.0</td>\n",
              "      <td>34.0</td>\n",
              "      <td>33.50</td>\n",
              "      <td>38.0</td>\n",
              "      <td>35.8</td>\n",
              "      <td>3.0</td>\n",
              "      <td>2.6</td>\n",
              "      <td>10.0</td>\n",
              "      <td>10.75</td>\n",
              "      <td>18.0</td>\n",
              "      <td>13.245</td>\n",
              "      <td>48.0</td>\n",
              "      <td>40.2</td>\n",
              "      <td>55.0</td>\n",
              "      <td>46.00</td>\n",
              "    </tr>\n",
              "    <tr>\n",
              "      <th>163</th>\n",
              "      <td>13.0</td>\n",
              "      <td>68.0</td>\n",
              "      <td>27.0</td>\n",
              "      <td>26.49</td>\n",
              "      <td>1.0</td>\n",
              "      <td>34.0</td>\n",
              "      <td>34.75</td>\n",
              "      <td>36.0</td>\n",
              "      <td>37.3</td>\n",
              "      <td>6.0</td>\n",
              "      <td>6.6</td>\n",
              "      <td>10.0</td>\n",
              "      <td>13.00</td>\n",
              "      <td>17.0</td>\n",
              "      <td>13.245</td>\n",
              "      <td>35.0</td>\n",
              "      <td>31.9</td>\n",
              "      <td>47.0</td>\n",
              "      <td>45.75</td>\n",
              "    </tr>\n",
              "  </tbody>\n",
              "</table>\n",
              "<p>164 rows × 19 columns</p>\n",
              "</div>"
            ],
            "text/plain": [
              "     Scolarita   Eta  ...  TESTMATRICIATTENTIVE_PG  TESTMATRICIATTENTIVE_PC\n",
              "0         13.0  81.0  ...                     52.0                    52.50\n",
              "1          5.0  76.0  ...                     45.0                    44.75\n",
              "2          8.0  66.0  ...                     38.0                    44.75\n",
              "3         10.0  62.0  ...                     40.0                    39.25\n",
              "4         14.0  59.0  ...                     38.0                    34.00\n",
              "..         ...   ...  ...                      ...                      ...\n",
              "159        5.0  80.0  ...                     45.0                    44.75\n",
              "160        8.0  72.0  ...                     37.0                    36.50\n",
              "161       13.0  77.0  ...                     52.0                    53.75\n",
              "162       17.0  62.0  ...                     55.0                    46.00\n",
              "163       13.0  68.0  ...                     47.0                    45.75\n",
              "\n",
              "[164 rows x 19 columns]"
            ]
          },
          "metadata": {
            "tags": []
          },
          "execution_count": 4
        }
      ]
    },
    {
      "cell_type": "markdown",
      "metadata": {
        "id": "MPIgEfQrKbIT"
      },
      "source": [
        "## Decision Tree\n",
        "\n"
      ]
    },
    {
      "cell_type": "code",
      "metadata": {
        "id": "avf0vAcnKjB1",
        "outputId": "06b6cce4-b20b-4e86-cf83-ca219bec49e5",
        "colab": {
          "base_uri": "https://localhost:8080/"
        }
      },
      "source": [
        "# Set up possible values of parameters to optimize over\n",
        "p_grid = {\"criterion\": [\"gini\",\"entropy\"],\n",
        "          \"min_samples_split\": np.arange(2,10,1),\n",
        "          \"min_samples_leaf\": np.arange(2,10,1)}\n",
        "\n",
        "weights = {\"Assenza di patologia\" : 1,\n",
        "           \"Malattia di Alzheimer\" : 1,\n",
        "           \"Disturbo cognitivo lieve\" : 1,\n",
        "           \"Disturbo depressivo\" : 1}\n",
        "\n",
        "# Logistic Regression Classifier\n",
        "model = DecisionTreeClassifier(splitter='best', min_weight_fraction_leaf=0.0, max_features=None, random_state=None, max_leaf_nodes=None,\n",
        "                               min_impurity_decrease=0.0, min_impurity_split=None, class_weight=weights, ccp_alpha=0.0)\n",
        "\n",
        "# Number of random trials\n",
        "NUM_TRIALS = 5\n",
        "\n",
        "# Arrays to store scores\n",
        "non_nested_scores = np.zeros(NUM_TRIALS)\n",
        "nested_scores = np.zeros(NUM_TRIALS)\n",
        "\n",
        "# Model selection\n",
        "for i in range(NUM_TRIALS):\n",
        "    \n",
        "    # Choose cross-validation techniques for the inner and outer loops\n",
        "    inner_cv = StratifiedKFold(n_splits=4, shuffle=True, random_state=i)\n",
        "    outer_cv = StratifiedKFold(n_splits=4, shuffle=True, random_state=i)\n",
        "\n",
        "    # Non_nested parameter search and scoring\n",
        "    clf = GridSearchCV(estimator=model, param_grid=p_grid, cv=inner_cv, scoring = 'accuracy', verbose = 0)\n",
        "\n",
        "    # Nested CV with parameter optimization\n",
        "    nested_score = cross_val_score(clf, X=df_data_num_norm.values, y=df_target.values, cv=outer_cv, verbose = 1)\n",
        "    print(nested_score.mean())\n",
        "    nested_scores[i] = nested_score.mean()\n",
        "    \n",
        "print(\"Mean score: \", nested_scores.mean())"
      ],
      "execution_count": null,
      "outputs": [
        {
          "output_type": "stream",
          "text": [
            "[Parallel(n_jobs=1)]: Using backend SequentialBackend with 1 concurrent workers.\n",
            "[Parallel(n_jobs=1)]: Done   4 out of   4 | elapsed:    5.6s finished\n",
            "[Parallel(n_jobs=1)]: Using backend SequentialBackend with 1 concurrent workers.\n"
          ],
          "name": "stderr"
        },
        {
          "output_type": "stream",
          "text": [
            "0.6281589773729063\n"
          ],
          "name": "stdout"
        },
        {
          "output_type": "stream",
          "text": [
            "[Parallel(n_jobs=1)]: Done   4 out of   4 | elapsed:    5.5s finished\n",
            "[Parallel(n_jobs=1)]: Using backend SequentialBackend with 1 concurrent workers.\n"
          ],
          "name": "stderr"
        },
        {
          "output_type": "stream",
          "text": [
            "0.6315750808110491\n"
          ],
          "name": "stdout"
        },
        {
          "output_type": "stream",
          "text": [
            "[Parallel(n_jobs=1)]: Done   4 out of   4 | elapsed:    5.7s finished\n",
            "[Parallel(n_jobs=1)]: Using backend SequentialBackend with 1 concurrent workers.\n"
          ],
          "name": "stderr"
        },
        {
          "output_type": "stream",
          "text": [
            "0.6525859535703791\n"
          ],
          "name": "stdout"
        },
        {
          "output_type": "stream",
          "text": [
            "[Parallel(n_jobs=1)]: Done   4 out of   4 | elapsed:    5.7s finished\n",
            "[Parallel(n_jobs=1)]: Using backend SequentialBackend with 1 concurrent workers.\n"
          ],
          "name": "stderr"
        },
        {
          "output_type": "stream",
          "text": [
            "0.6798780487804879\n",
            "0.6105274757566852\n",
            "Mean score:  0.6405451072583015\n"
          ],
          "name": "stdout"
        },
        {
          "output_type": "stream",
          "text": [
            "[Parallel(n_jobs=1)]: Done   4 out of   4 | elapsed:    5.7s finished\n"
          ],
          "name": "stderr"
        }
      ]
    },
    {
      "cell_type": "markdown",
      "metadata": {
        "id": "syxoPkipyC12"
      },
      "source": [
        "## Logistic Regression"
      ]
    },
    {
      "cell_type": "code",
      "metadata": {
        "id": "R3Ja73YvyC13",
        "outputId": "72a7ab03-b9a8-436d-c3ab-757bbf1e3fda"
      },
      "source": [
        "# Normalize data\n",
        "df_data_num_norm = pd.DataFrame(data = minmax_scale(df_data_num, feature_range=(0, 1), axis=0, copy=True), columns = df_data_num.columns)\n",
        "\n",
        "# Set up possible values of parameters to optimize over\n",
        "p_grid = {\"C\": np.arange(0.1,2,0.3),\n",
        "          \"solver\": [\"lbfgs\", \"newton-cg\",],\n",
        "          \"multi_class\": [\"ovr\", \"multinomial\"]}\n",
        "\n",
        "weights = {\"Assenza di patologia\" : 1,\n",
        "           \"Malattia di Alzheimer\" : 1,\n",
        "           \"Disturbo cognitivo lieve\" : 2,\n",
        "           \"Disturbo depressivo\" : 3}\n",
        "\n",
        "# Logistic Regression Classifier\n",
        "model = LogisticRegression(penalty='l2', tol=0.0001, fit_intercept=True, intercept_scaling=1, \n",
        "                           class_weight= weights, random_state=None, max_iter=1000, verbose=0, l1_ratio=None)\n",
        "\n",
        "# Number of random trials\n",
        "NUM_TRIALS = 5\n",
        "\n",
        "# Arrays to store scores\n",
        "non_nested_scores = np.zeros(NUM_TRIALS)\n",
        "nested_scores = np.zeros(NUM_TRIALS)\n",
        "\n",
        "# Model selection\n",
        "for i in range(NUM_TRIALS):\n",
        "    \n",
        "    # Choose cross-validation techniques for the inner and outer loops\n",
        "    inner_cv = StratifiedKFold(n_splits=4, shuffle=True, random_state=i)\n",
        "    outer_cv = StratifiedKFold(n_splits=4, shuffle=True, random_state=i)\n",
        "\n",
        "    # Non_nested parameter search and scoring\n",
        "    clf = GridSearchCV(estimator=model, param_grid=p_grid, cv=inner_cv, scoring = 'accuracy', verbose = 0)\n",
        "\n",
        "    # Nested CV with parameter optimization\n",
        "    nested_score = cross_val_score(clf, X=df_data_num_norm.values, y=df_target.values, cv=outer_cv, verbose = 1)\n",
        "    print(nested_score.mean())\n",
        "    nested_scores[i] = nested_score.mean()\n",
        "    \n",
        "print(\"Mean score: \", nested_scores.mean())"
      ],
      "execution_count": null,
      "outputs": [
        {
          "output_type": "stream",
          "text": [
            "[Parallel(n_jobs=1)]: Using backend SequentialBackend with 1 concurrent workers.\n",
            "[Parallel(n_jobs=1)]: Done   4 out of   4 | elapsed:   10.7s finished\n",
            "[Parallel(n_jobs=1)]: Using backend SequentialBackend with 1 concurrent workers.\n"
          ],
          "name": "stderr"
        },
        {
          "output_type": "stream",
          "text": [
            "0.6767190714075816\n"
          ],
          "name": "stdout"
        },
        {
          "output_type": "stream",
          "text": [
            "[Parallel(n_jobs=1)]: Done   4 out of   4 | elapsed:   11.3s finished\n",
            "[Parallel(n_jobs=1)]: Using backend SequentialBackend with 1 concurrent workers.\n"
          ],
          "name": "stderr"
        },
        {
          "output_type": "stream",
          "text": [
            "0.6767190714075816\n"
          ],
          "name": "stdout"
        },
        {
          "output_type": "stream",
          "text": [
            "[Parallel(n_jobs=1)]: Done   4 out of   4 | elapsed:   12.4s finished\n",
            "[Parallel(n_jobs=1)]: Using backend SequentialBackend with 1 concurrent workers.\n"
          ],
          "name": "stderr"
        },
        {
          "output_type": "stream",
          "text": [
            "0.6797678518953865\n"
          ],
          "name": "stdout"
        },
        {
          "output_type": "stream",
          "text": [
            "[Parallel(n_jobs=1)]: Done   4 out of   4 | elapsed:   11.9s finished\n",
            "[Parallel(n_jobs=1)]: Using backend SequentialBackend with 1 concurrent workers.\n"
          ],
          "name": "stderr"
        },
        {
          "output_type": "stream",
          "text": [
            "0.679841316485454\n",
            "0.6765721422274464\n",
            "Mean score:  0.6779238906846901\n"
          ],
          "name": "stdout"
        },
        {
          "output_type": "stream",
          "text": [
            "[Parallel(n_jobs=1)]: Done   4 out of   4 | elapsed:   11.6s finished\n"
          ],
          "name": "stderr"
        }
      ]
    },
    {
      "cell_type": "markdown",
      "metadata": {
        "id": "j-vE2ZaWyC1s"
      },
      "source": [
        "## Multi Layer Perceptron"
      ]
    },
    {
      "cell_type": "code",
      "metadata": {
        "id": "d7wbBTOzyC1t",
        "outputId": "52f46ff1-2134-4ebc-f6b0-5fe6595f700c",
        "colab": {
          "base_uri": "https://localhost:8080/"
        }
      },
      "source": [
        "# Normalize data\n",
        "df_data_num_norm = pd.DataFrame(data = minmax_scale(df_data_num, feature_range=(0, 1), axis=0, copy=True), columns = df_data_num.columns)\n",
        "\n",
        "# Set up possible values of parameters to optimize over\n",
        "p_grid = {\"alpha\": np.arange(0.01,1,0.1),\n",
        "          \"hidden_layer_sizes\": [(19, ), (23, ), (11, )],\n",
        "          # \"momentum\": np.arange(0.1,1,0.1),\n",
        "          \"activation\": [\"logistic\", \"identity\", \"tanh\", \"relu\"]}\n",
        "\n",
        "# Multi Layer Perceptron Classifier\n",
        "model = MLPClassifier(solver='adam', learning_rate='adaptive', learning_rate_init=0.1, max_iter=1500, shuffle=True,\n",
        "                      tol=0.001, verbose=0, nesterovs_momentum=False, early_stopping=True)\n",
        "\n",
        "# Number of random trials\n",
        "NUM_TRIALS = 5\n",
        "\n",
        "# Arrays to store scores\n",
        "non_nested_scores = np.zeros(NUM_TRIALS)\n",
        "nested_scores = np.zeros(NUM_TRIALS)\n",
        "\n",
        "# Model selection\n",
        "for i in range(NUM_TRIALS):\n",
        "    \n",
        "    # Choose cross-validation techniques for the inner and outer loops\n",
        "    inner_cv = StratifiedKFold(n_splits=4, shuffle=True, random_state=i)\n",
        "    outer_cv = StratifiedKFold(n_splits=4, shuffle=True, random_state=i)\n",
        "\n",
        "    # Non_nested parameter search and scoring\n",
        "    clf = GridSearchCV(estimator=model, param_grid=p_grid, cv=inner_cv, scoring = 'accuracy', verbose = 0)\n",
        "\n",
        "    # Nested CV with parameter optimization\n",
        "    nested_score = cross_val_score(clf, X=df_data_num_norm.values, y=df_target.values, cv=outer_cv, verbose = 1)\n",
        "    print(nested_score.mean())\n",
        "    nested_scores[i] = nested_score.mean()\n",
        "    \n",
        "print(\"Mean score: \", nested_scores.mean())"
      ],
      "execution_count": null,
      "outputs": [
        {
          "output_type": "stream",
          "text": [
            "[Parallel(n_jobs=1)]: Using backend SequentialBackend with 1 concurrent workers.\n",
            "[Parallel(n_jobs=1)]: Done   4 out of   4 | elapsed:   31.2s finished\n",
            "[Parallel(n_jobs=1)]: Using backend SequentialBackend with 1 concurrent workers.\n"
          ],
          "name": "stderr"
        },
        {
          "output_type": "stream",
          "text": [
            "0.6767190714075816\n"
          ],
          "name": "stdout"
        },
        {
          "output_type": "stream",
          "text": [
            "[Parallel(n_jobs=1)]: Done   4 out of   4 | elapsed:   31.8s finished\n",
            "[Parallel(n_jobs=1)]: Using backend SequentialBackend with 1 concurrent workers.\n"
          ],
          "name": "stderr"
        },
        {
          "output_type": "stream",
          "text": [
            "0.6253673229503379\n"
          ],
          "name": "stdout"
        },
        {
          "output_type": "stream",
          "text": [
            "[Parallel(n_jobs=1)]: Done   4 out of   4 | elapsed:   31.7s finished\n",
            "[Parallel(n_jobs=1)]: Using backend SequentialBackend with 1 concurrent workers.\n"
          ],
          "name": "stderr"
        },
        {
          "output_type": "stream",
          "text": [
            "0.6828533646782251\n"
          ],
          "name": "stdout"
        },
        {
          "output_type": "stream",
          "text": [
            "[Parallel(n_jobs=1)]: Done   4 out of   4 | elapsed:   31.3s finished\n",
            "[Parallel(n_jobs=1)]: Using backend SequentialBackend with 1 concurrent workers.\n"
          ],
          "name": "stderr"
        },
        {
          "output_type": "stream",
          "text": [
            "0.646745518660006\n",
            "0.6616220981486923\n",
            "Mean score:  0.6586614751689686\n"
          ],
          "name": "stdout"
        },
        {
          "output_type": "stream",
          "text": [
            "[Parallel(n_jobs=1)]: Done   4 out of   4 | elapsed:   31.5s finished\n"
          ],
          "name": "stderr"
        }
      ]
    },
    {
      "cell_type": "markdown",
      "metadata": {
        "id": "YdvDw4eayC2A"
      },
      "source": [
        "## KNN numerical"
      ]
    },
    {
      "cell_type": "code",
      "metadata": {
        "id": "jPB-dq5XyC2B",
        "outputId": "baf4bd86-d43a-48af-a62f-ed9dfde3374d",
        "colab": {
          "base_uri": "https://localhost:8080/"
        }
      },
      "source": [
        "# Normalize data\n",
        "df_data_num_norm = pd.DataFrame(data = minmax_scale(df_data_num, feature_range=(0, 1), axis=0, copy=True), columns = df_data_num.columns)\n",
        "\n",
        "# Set up possible values of parameters to optimize over\n",
        "p_grid = {\"metric\": [\"manhattan\", \"euclidean\"],\n",
        "          \"n_neighbors\": np.arange(1,20,1),\n",
        "          \"weights\": [\"distance\", \"uniform\"]}\n",
        "\n",
        "# KNN Classifier\n",
        "# model = NearestNeighbors(*, n_neighbors=5, radius=1.0, algorithm='auto', leaf_size=30, metric='minkowski', p=2, metric_params=None, n_jobs=None)\n",
        "model = KNeighborsClassifier(radius=1.0, algorithm='auto', leaf_size=30, n_jobs=2)\n",
        "\n",
        "\n",
        "# Number of random trials\n",
        "NUM_TRIALS = 5\n",
        "\n",
        "# Arrays to store scores\n",
        "non_nested_scores = np.zeros(NUM_TRIALS)\n",
        "nested_scores = np.zeros(NUM_TRIALS)\n",
        "\n",
        "# Model selection\n",
        "for i in range(NUM_TRIALS):\n",
        "    \n",
        "    # Choose cross-validation techniques for the inner and outer loops\n",
        "    inner_cv = StratifiedKFold(n_splits=4, shuffle=True, random_state=i)\n",
        "    outer_cv = StratifiedKFold(n_splits=4, shuffle=True, random_state=i)\n",
        "\n",
        "    # Non_nested parameter search and scoring\n",
        "    clf = GridSearchCV(estimator=model, param_grid=p_grid, cv=inner_cv, scoring = 'accuracy', verbose = 0)\n",
        "\n",
        "    # Nested CV with parameter optimization\n",
        "    nested_score = cross_val_score(clf, X=df_data_num_norm.values, y=df_target.values, cv=outer_cv, verbose = 1)\n",
        "    print(nested_score.mean())\n",
        "    nested_scores[i] = nested_score.mean()\n",
        "    \n",
        "print(\"Mean score: \", nested_scores.mean())"
      ],
      "execution_count": null,
      "outputs": [
        {
          "output_type": "stream",
          "text": [
            "[Parallel(n_jobs=1)]: Using backend SequentialBackend with 1 concurrent workers.\n",
            "[Parallel(n_jobs=1)]: Done   4 out of   4 | elapsed:   11.6s finished\n",
            "[Parallel(n_jobs=1)]: Using backend SequentialBackend with 1 concurrent workers.\n"
          ],
          "name": "stderr"
        },
        {
          "output_type": "stream",
          "text": [
            "0.7159124302086395\n"
          ],
          "name": "stdout"
        },
        {
          "output_type": "stream",
          "text": [
            "[Parallel(n_jobs=1)]: Done   4 out of   4 | elapsed:   10.5s finished\n",
            "[Parallel(n_jobs=1)]: Using backend SequentialBackend with 1 concurrent workers.\n"
          ],
          "name": "stderr"
        },
        {
          "output_type": "stream",
          "text": [
            "0.7008154569497502\n"
          ],
          "name": "stdout"
        },
        {
          "output_type": "stream",
          "text": [
            "[Parallel(n_jobs=1)]: Done   4 out of   4 | elapsed:   10.7s finished\n",
            "[Parallel(n_jobs=1)]: Using backend SequentialBackend with 1 concurrent workers.\n"
          ],
          "name": "stderr"
        },
        {
          "output_type": "stream",
          "text": [
            "0.7219732588892154\n"
          ],
          "name": "stdout"
        },
        {
          "output_type": "stream",
          "text": [
            "[Parallel(n_jobs=1)]: Done   4 out of   4 | elapsed:   10.6s finished\n",
            "[Parallel(n_jobs=1)]: Using backend SequentialBackend with 1 concurrent workers.\n"
          ],
          "name": "stderr"
        },
        {
          "output_type": "stream",
          "text": [
            "0.6795841904202174\n",
            "0.7008154569497502\n",
            "Mean score:  0.7038201586835147\n"
          ],
          "name": "stdout"
        },
        {
          "output_type": "stream",
          "text": [
            "[Parallel(n_jobs=1)]: Done   4 out of   4 | elapsed:   10.6s finished\n"
          ],
          "name": "stderr"
        }
      ]
    },
    {
      "cell_type": "markdown",
      "metadata": {
        "id": "sPRLzqmwyC2H"
      },
      "source": [
        "## SVC with rbf kernel"
      ]
    },
    {
      "cell_type": "code",
      "metadata": {
        "id": "mVj9YZzDyC2K",
        "outputId": "f989de20-67b4-47d1-bdd4-34d1d59db267"
      },
      "source": [
        "# Normalize data\n",
        "df_data_num_norm = pd.DataFrame(data = minmax_scale(df_data_num, feature_range=(0, 1), axis=0, copy=True), columns = df_data_num.columns)\n",
        "\n",
        "# Set up possible values of parameters to optimize over\n",
        "p_grid = {\"C\": np.arange(0.1,2,0.3),\n",
        "          \"gamma\": np.arange(0.01,1,0.1),\n",
        "          \"degree\":[1,2,3]}\n",
        "\n",
        "# We will use a Support Vector Classifier\n",
        "model = SVC(kernel=\"rbf\")\n",
        "\n",
        "# Number of random trials\n",
        "NUM_TRIALS = 5\n",
        "\n",
        "# Arrays to store scores\n",
        "non_nested_scores = np.zeros(NUM_TRIALS)\n",
        "nested_scores = np.zeros(NUM_TRIALS)\n",
        "\n",
        "# Model selection\n",
        "for i in range(NUM_TRIALS):\n",
        "    \n",
        "    # Choose cross-validation techniques for the inner and outer loops\n",
        "    inner_cv = StratifiedKFold(n_splits=4, shuffle=True, random_state=i)\n",
        "    outer_cv = StratifiedKFold(n_splits=4, shuffle=True, random_state=i)\n",
        "\n",
        "    # Non_nested parameter search and scoring\n",
        "    clf = GridSearchCV(estimator=model, param_grid=p_grid, cv=inner_cv, verbose = 0)\n",
        "\n",
        "    # Nested CV with parameter optimization\n",
        "    nested_score = cross_val_score(clf, X=df_data_num_norm.values, y=df_target.values, cv=outer_cv, verbose = 1)\n",
        "    print(nested_score.mean())\n",
        "    nested_scores[i] = nested_score.mean()\n",
        "    \n",
        "print(\"Mean score: \", nested_scores.mean())"
      ],
      "execution_count": null,
      "outputs": [
        {
          "output_type": "stream",
          "text": [
            "[Parallel(n_jobs=1)]: Using backend SequentialBackend with 1 concurrent workers.\n",
            "[Parallel(n_jobs=1)]: Done   4 out of   4 | elapsed:    9.2s finished\n",
            "[Parallel(n_jobs=1)]: Using backend SequentialBackend with 1 concurrent workers.\n"
          ],
          "name": "stderr"
        },
        {
          "output_type": "stream",
          "text": [
            "0.6948648251542757\n"
          ],
          "name": "stdout"
        },
        {
          "output_type": "stream",
          "text": [
            "[Parallel(n_jobs=1)]: Done   4 out of   4 | elapsed:    8.8s finished\n",
            "[Parallel(n_jobs=1)]: Using backend SequentialBackend with 1 concurrent workers.\n"
          ],
          "name": "stderr"
        },
        {
          "output_type": "stream",
          "text": [
            "0.6737437555098443\n"
          ],
          "name": "stdout"
        },
        {
          "output_type": "stream",
          "text": [
            "[Parallel(n_jobs=1)]: Done   4 out of   4 | elapsed:    9.0s finished\n",
            "[Parallel(n_jobs=1)]: Using backend SequentialBackend with 1 concurrent workers.\n"
          ],
          "name": "stderr"
        },
        {
          "output_type": "stream",
          "text": [
            "0.6858286805759624\n"
          ],
          "name": "stdout"
        },
        {
          "output_type": "stream",
          "text": [
            "[Parallel(n_jobs=1)]: Done   4 out of   4 | elapsed:    8.8s finished\n",
            "[Parallel(n_jobs=1)]: Using backend SequentialBackend with 1 concurrent workers.\n"
          ],
          "name": "stderr"
        },
        {
          "output_type": "stream",
          "text": [
            "0.691962973846606\n",
            "0.700852189244784\n",
            "Mean score:  0.6894504848662945\n"
          ],
          "name": "stdout"
        },
        {
          "output_type": "stream",
          "text": [
            "[Parallel(n_jobs=1)]: Done   4 out of   4 | elapsed:    9.0s finished\n"
          ],
          "name": "stderr"
        }
      ]
    },
    {
      "cell_type": "markdown",
      "metadata": {
        "id": "P5uAjRF1yC2R"
      },
      "source": [
        "## SVC with polinomial kernel"
      ]
    },
    {
      "cell_type": "code",
      "metadata": {
        "id": "Ydi9WxINyC2S",
        "outputId": "c480c7cd-bef3-4b53-e9d1-a4e1905a7a41"
      },
      "source": [
        "# Normalize data\n",
        "df_data_num_norm = pd.DataFrame(data = minmax_scale(df_data_num, feature_range=(0, 1), axis=0, copy=True), columns = df_data_num.columns)\n",
        "\n",
        "# Set up possible values of parameters to optimize over\n",
        "p_grid = {\"C\": np.arange(0.1,2,0.3),\n",
        "          \"gamma\": np.arange(0.01,1,0.1),\n",
        "          \"degree\":[1,2,3]}\n",
        "\n",
        "weights = {\"Assenza di patologia\" : 1,\n",
        "           \"Malattia di Alzheimer\" : 1,\n",
        "           \"Disturbo cognitivo lieve\" : 1,\n",
        "           \"Disturbo depressivo\" : 1.5}\n",
        "\n",
        "# We will use a Support Vector Classifier\n",
        "model = SVC(kernel=\"poly\", class_weight = None)\n",
        "\n",
        "# Number of random trials\n",
        "NUM_TRIALS = 5\n",
        "\n",
        "# Arrays to store scores\n",
        "non_nested_scores = np.zeros(NUM_TRIALS)\n",
        "nested_scores = np.zeros(NUM_TRIALS)\n",
        "\n",
        "# Model selection\n",
        "for i in range(NUM_TRIALS):\n",
        "    \n",
        "    # Choose cross-validation techniques for the inner and outer loops\n",
        "    inner_cv = StratifiedKFold(n_splits=4, shuffle=True, random_state=i)\n",
        "    outer_cv = StratifiedKFold(n_splits=4, shuffle=True, random_state=i)\n",
        "\n",
        "    # Non_nested parameter search and scoring\n",
        "    clf = GridSearchCV(estimator=model, param_grid=p_grid, cv=inner_cv, verbose = 0)\n",
        "\n",
        "    # Nested CV with parameter optimization\n",
        "    nested_score = cross_val_score(clf, X=df_data_num_norm.values, y=df_target.values, cv=outer_cv, verbose = 1)\n",
        "    print(nested_score.mean())\n",
        "    nested_scores[i] = nested_score.mean()\n",
        "    \n",
        "print(\"Mean score: \", nested_scores.mean())"
      ],
      "execution_count": null,
      "outputs": [
        {
          "output_type": "stream",
          "text": [
            "[Parallel(n_jobs=1)]: Using backend SequentialBackend with 1 concurrent workers.\n",
            "[Parallel(n_jobs=1)]: Done   4 out of   4 | elapsed:   12.1s finished\n",
            "[Parallel(n_jobs=1)]: Using backend SequentialBackend with 1 concurrent workers.\n"
          ],
          "name": "stderr"
        },
        {
          "output_type": "stream",
          "text": [
            "0.6948648251542757\n"
          ],
          "name": "stdout"
        },
        {
          "output_type": "stream",
          "text": [
            "[Parallel(n_jobs=1)]: Done   4 out of   4 | elapsed:   10.1s finished\n",
            "[Parallel(n_jobs=1)]: Using backend SequentialBackend with 1 concurrent workers.\n"
          ],
          "name": "stderr"
        },
        {
          "output_type": "stream",
          "text": [
            "0.6949382897443432\n"
          ],
          "name": "stdout"
        },
        {
          "output_type": "stream",
          "text": [
            "[Parallel(n_jobs=1)]: Done   4 out of   4 | elapsed:   11.1s finished\n",
            "[Parallel(n_jobs=1)]: Using backend SequentialBackend with 1 concurrent workers.\n"
          ],
          "name": "stderr"
        },
        {
          "output_type": "stream",
          "text": [
            "0.7039377020276227\n"
          ],
          "name": "stdout"
        },
        {
          "output_type": "stream",
          "text": [
            "[Parallel(n_jobs=1)]: Done   4 out of   4 | elapsed:   10.1s finished\n",
            "[Parallel(n_jobs=1)]: Using backend SequentialBackend with 1 concurrent workers.\n"
          ],
          "name": "stderr"
        },
        {
          "output_type": "stream",
          "text": [
            "0.691962973846606\n",
            "0.6737070232148106\n",
            "Mean score:  0.6918821627975318\n"
          ],
          "name": "stdout"
        },
        {
          "output_type": "stream",
          "text": [
            "[Parallel(n_jobs=1)]: Done   4 out of   4 | elapsed:   10.4s finished\n"
          ],
          "name": "stderr"
        }
      ]
    },
    {
      "cell_type": "markdown",
      "metadata": {
        "id": "RaQLfAgrOczt"
      },
      "source": [
        "# SVC Classifier\n"
      ]
    },
    {
      "cell_type": "markdown",
      "metadata": {
        "id": "Omn-G8CqyC2b"
      },
      "source": [
        "## Hyperparameter Selection SVC\n",
        "\n"
      ]
    },
    {
      "cell_type": "code",
      "metadata": {
        "id": "Z520FLZqyC2b",
        "outputId": "14e60fe7-075f-4b9f-e010-30e4d20c4a21",
        "colab": {
          "base_uri": "https://localhost:8080/",
          "height": 492
        }
      },
      "source": [
        "# Split dataset (2/3 training , 1/3 test)\n",
        "data_train, data_test, target_train, target_test = train_test_split(df_data_num.values, df_target.values, test_size=0.33, stratify = df_target)\n",
        "\n",
        "# Normalize data\n",
        "data_train_norm = minmax_scale(data_train, feature_range=(0, 1), axis=0, copy=True)\n",
        "data_test_norm = minmax_scale(data_test, feature_range=(0, 1), axis=0, copy=True)\n",
        "\n",
        "# Select best hyerparameter\n",
        "p_grid = {\"C\": np.arange(0.1,2,0.3),\n",
        "          \"gamma\": np.arange(0.01,1,0.1),\n",
        "          \"degree\":[1,2,3]}\n",
        "\n",
        "\n",
        "weights = {\"Assenza di patologia\" : 1,\n",
        "           \"Malattia di Alzheimer\" : 1,\n",
        "           \"Disturbo cognitivo lieve\" : 1,\n",
        "           \"Disturbo depressivo\" : 1.5}\n",
        "\n",
        "model = SVC(kernel=\"poly\", class_weight = weights)\n",
        "hyp_cv = StratifiedKFold(n_splits=10, shuffle=True, random_state=1)\n",
        "clf = GridSearchCV(estimator=model, param_grid=p_grid, cv= hyp_cv, verbose = 1, scoring = 'accuracy')\n",
        "\n",
        "clf.fit(data_train_norm,target_train)\n",
        "\n",
        "print(\"Best score: \", clf.best_score_)\n",
        "print(\"Best params: \", clf.best_params_)\n",
        "\n",
        "\n",
        "df_score = pd.DataFrame(clf.cv_results_)\n",
        "df_score = df_score.sort_values(by=[\"rank_test_score\"])\n",
        "df_score = df_score.loc[:,\"params\":\"rank_test_score\"]\n",
        "df_score.head()"
      ],
      "execution_count": 5,
      "outputs": [
        {
          "output_type": "stream",
          "text": [
            "Fitting 10 folds for each of 210 candidates, totalling 2100 fits\n"
          ],
          "name": "stdout"
        },
        {
          "output_type": "stream",
          "text": [
            "[Parallel(n_jobs=1)]: Using backend SequentialBackend with 1 concurrent workers.\n"
          ],
          "name": "stderr"
        },
        {
          "output_type": "stream",
          "text": [
            "Best score:  0.7197628458498023\n",
            "Best params:  {'C': 1.6000000000000003, 'degree': 3, 'gamma': 0.41000000000000003}\n"
          ],
          "name": "stdout"
        },
        {
          "output_type": "stream",
          "text": [
            "[Parallel(n_jobs=1)]: Done 2100 out of 2100 | elapsed:    7.8s finished\n"
          ],
          "name": "stderr"
        },
        {
          "output_type": "execute_result",
          "data": {
            "text/html": [
              "<div>\n",
              "<style scoped>\n",
              "    .dataframe tbody tr th:only-of-type {\n",
              "        vertical-align: middle;\n",
              "    }\n",
              "\n",
              "    .dataframe tbody tr th {\n",
              "        vertical-align: top;\n",
              "    }\n",
              "\n",
              "    .dataframe thead th {\n",
              "        text-align: right;\n",
              "    }\n",
              "</style>\n",
              "<table border=\"1\" class=\"dataframe\">\n",
              "  <thead>\n",
              "    <tr style=\"text-align: right;\">\n",
              "      <th></th>\n",
              "      <th>params</th>\n",
              "      <th>split0_test_score</th>\n",
              "      <th>split1_test_score</th>\n",
              "      <th>split2_test_score</th>\n",
              "      <th>split3_test_score</th>\n",
              "      <th>split4_test_score</th>\n",
              "      <th>split5_test_score</th>\n",
              "      <th>split6_test_score</th>\n",
              "      <th>split7_test_score</th>\n",
              "      <th>split8_test_score</th>\n",
              "      <th>split9_test_score</th>\n",
              "      <th>mean_test_score</th>\n",
              "      <th>std_test_score</th>\n",
              "      <th>rank_test_score</th>\n",
              "    </tr>\n",
              "  </thead>\n",
              "  <tbody>\n",
              "    <tr>\n",
              "      <th>174</th>\n",
              "      <td>{'C': 1.6000000000000003, 'degree': 3, 'gamma'...</td>\n",
              "      <td>0.652174</td>\n",
              "      <td>0.636364</td>\n",
              "      <td>0.727273</td>\n",
              "      <td>0.772727</td>\n",
              "      <td>0.772727</td>\n",
              "      <td>0.818182</td>\n",
              "      <td>0.681818</td>\n",
              "      <td>0.590909</td>\n",
              "      <td>0.772727</td>\n",
              "      <td>0.772727</td>\n",
              "      <td>0.719763</td>\n",
              "      <td>0.071085</td>\n",
              "      <td>1</td>\n",
              "    </tr>\n",
              "    <tr>\n",
              "      <th>26</th>\n",
              "      <td>{'C': 0.1, 'degree': 3, 'gamma': 0.61000000000...</td>\n",
              "      <td>0.695652</td>\n",
              "      <td>0.636364</td>\n",
              "      <td>0.681818</td>\n",
              "      <td>0.818182</td>\n",
              "      <td>0.772727</td>\n",
              "      <td>0.909091</td>\n",
              "      <td>0.681818</td>\n",
              "      <td>0.545455</td>\n",
              "      <td>0.772727</td>\n",
              "      <td>0.681818</td>\n",
              "      <td>0.719565</td>\n",
              "      <td>0.096634</td>\n",
              "      <td>2</td>\n",
              "    </tr>\n",
              "    <tr>\n",
              "      <th>173</th>\n",
              "      <td>{'C': 1.6000000000000003, 'degree': 3, 'gamma'...</td>\n",
              "      <td>0.695652</td>\n",
              "      <td>0.636364</td>\n",
              "      <td>0.727273</td>\n",
              "      <td>0.772727</td>\n",
              "      <td>0.772727</td>\n",
              "      <td>0.909091</td>\n",
              "      <td>0.636364</td>\n",
              "      <td>0.545455</td>\n",
              "      <td>0.772727</td>\n",
              "      <td>0.681818</td>\n",
              "      <td>0.715020</td>\n",
              "      <td>0.095083</td>\n",
              "      <td>3</td>\n",
              "    </tr>\n",
              "    <tr>\n",
              "      <th>54</th>\n",
              "      <td>{'C': 0.4, 'degree': 3, 'gamma': 0.41000000000...</td>\n",
              "      <td>0.695652</td>\n",
              "      <td>0.636364</td>\n",
              "      <td>0.681818</td>\n",
              "      <td>0.772727</td>\n",
              "      <td>0.772727</td>\n",
              "      <td>0.909091</td>\n",
              "      <td>0.681818</td>\n",
              "      <td>0.545455</td>\n",
              "      <td>0.772727</td>\n",
              "      <td>0.681818</td>\n",
              "      <td>0.715020</td>\n",
              "      <td>0.092885</td>\n",
              "      <td>3</td>\n",
              "    </tr>\n",
              "    <tr>\n",
              "      <th>106</th>\n",
              "      <td>{'C': 1.0000000000000002, 'degree': 2, 'gamma'...</td>\n",
              "      <td>0.695652</td>\n",
              "      <td>0.681818</td>\n",
              "      <td>0.727273</td>\n",
              "      <td>0.772727</td>\n",
              "      <td>0.772727</td>\n",
              "      <td>0.909091</td>\n",
              "      <td>0.681818</td>\n",
              "      <td>0.545455</td>\n",
              "      <td>0.681818</td>\n",
              "      <td>0.681818</td>\n",
              "      <td>0.715020</td>\n",
              "      <td>0.088324</td>\n",
              "      <td>3</td>\n",
              "    </tr>\n",
              "  </tbody>\n",
              "</table>\n",
              "</div>"
            ],
            "text/plain": [
              "                                                params  ...  rank_test_score\n",
              "174  {'C': 1.6000000000000003, 'degree': 3, 'gamma'...  ...                1\n",
              "26   {'C': 0.1, 'degree': 3, 'gamma': 0.61000000000...  ...                2\n",
              "173  {'C': 1.6000000000000003, 'degree': 3, 'gamma'...  ...                3\n",
              "54   {'C': 0.4, 'degree': 3, 'gamma': 0.41000000000...  ...                3\n",
              "106  {'C': 1.0000000000000002, 'degree': 2, 'gamma'...  ...                3\n",
              "\n",
              "[5 rows x 14 columns]"
            ]
          },
          "metadata": {
            "tags": []
          },
          "execution_count": 5
        }
      ]
    },
    {
      "cell_type": "markdown",
      "metadata": {
        "id": "z_d6aFZ6yC2m"
      },
      "source": [
        "## Model Evaluation"
      ]
    },
    {
      "cell_type": "markdown",
      "metadata": {
        "id": "w9jLfNc1yC2p"
      },
      "source": [
        "### Test set evaluation"
      ]
    },
    {
      "cell_type": "code",
      "metadata": {
        "id": "U4AfTch2yC2p",
        "outputId": "a3a48020-fc20-4e1d-f8e4-85e19fb5e90f",
        "colab": {
          "base_uri": "https://localhost:8080/",
          "height": 263
        }
      },
      "source": [
        "# Evaluating model on 1/3 of dataset\n",
        "weights = {\"Assenza di patologia\" : 1,\n",
        "           \"Malattia di Alzheimer\" : 1,\n",
        "           \"Disturbo cognitivo lieve\" : 1.5,\n",
        "           \"Disturbo depressivo\" : 2}\n",
        "\n",
        "model = SVC(kernel=\"poly\", C = 1,  degree = 3, gamma = 0.2, class_weight = weights)\n",
        "\n",
        "model.fit(data_train_norm, target_train)\n",
        "prediction = model.predict(data_test_norm)\n",
        "# print(\"Accuracy: \", svm.score(data_test, target_test))\n",
        "print(\"Accuracy: \", accuracy_score(target_test, prediction))\n",
        "labels = [\"Assenza di patologia\", \"Malattia di Alzheimer\",  \"Disturbo cognitivo lieve\", \"Disturbo depressivo\"]\n",
        "df_cm = pd.DataFrame(confusion_matrix(target_test, prediction, labels= labels, sample_weight=None, normalize=None), columns = labels)\n",
        "df_cm.insert(0, \"Conf. matrix\", labels)\n",
        "df_cm"
      ],
      "execution_count": 6,
      "outputs": [
        {
          "output_type": "stream",
          "text": [
            "Accuracy:  0.6727272727272727\n"
          ],
          "name": "stdout"
        },
        {
          "output_type": "execute_result",
          "data": {
            "text/html": [
              "<div>\n",
              "<style scoped>\n",
              "    .dataframe tbody tr th:only-of-type {\n",
              "        vertical-align: middle;\n",
              "    }\n",
              "\n",
              "    .dataframe tbody tr th {\n",
              "        vertical-align: top;\n",
              "    }\n",
              "\n",
              "    .dataframe thead th {\n",
              "        text-align: right;\n",
              "    }\n",
              "</style>\n",
              "<table border=\"1\" class=\"dataframe\">\n",
              "  <thead>\n",
              "    <tr style=\"text-align: right;\">\n",
              "      <th></th>\n",
              "      <th>Conf. matrix</th>\n",
              "      <th>Assenza di patologia</th>\n",
              "      <th>Malattia di Alzheimer</th>\n",
              "      <th>Disturbo cognitivo lieve</th>\n",
              "      <th>Disturbo depressivo</th>\n",
              "    </tr>\n",
              "  </thead>\n",
              "  <tbody>\n",
              "    <tr>\n",
              "      <th>0</th>\n",
              "      <td>Assenza di patologia</td>\n",
              "      <td>62</td>\n",
              "      <td>4</td>\n",
              "      <td>0</td>\n",
              "      <td>1</td>\n",
              "    </tr>\n",
              "    <tr>\n",
              "      <th>1</th>\n",
              "      <td>Malattia di Alzheimer</td>\n",
              "      <td>8</td>\n",
              "      <td>9</td>\n",
              "      <td>4</td>\n",
              "      <td>0</td>\n",
              "    </tr>\n",
              "    <tr>\n",
              "      <th>2</th>\n",
              "      <td>Disturbo cognitivo lieve</td>\n",
              "      <td>6</td>\n",
              "      <td>5</td>\n",
              "      <td>3</td>\n",
              "      <td>0</td>\n",
              "    </tr>\n",
              "    <tr>\n",
              "      <th>3</th>\n",
              "      <td>Disturbo depressivo</td>\n",
              "      <td>4</td>\n",
              "      <td>3</td>\n",
              "      <td>1</td>\n",
              "      <td>0</td>\n",
              "    </tr>\n",
              "  </tbody>\n",
              "</table>\n",
              "</div>"
            ],
            "text/plain": [
              "               Conf. matrix  ...  Disturbo depressivo\n",
              "0      Assenza di patologia  ...                    1\n",
              "1     Malattia di Alzheimer  ...                    0\n",
              "2  Disturbo cognitivo lieve  ...                    0\n",
              "3       Disturbo depressivo  ...                    0\n",
              "\n",
              "[4 rows x 5 columns]"
            ]
          },
          "metadata": {
            "tags": []
          },
          "execution_count": 6
        }
      ]
    },
    {
      "cell_type": "markdown",
      "metadata": {
        "id": "WZWHzmwUyC2x"
      },
      "source": [
        "### Cross validation on entire dataset"
      ]
    },
    {
      "cell_type": "code",
      "metadata": {
        "id": "lsTiqyPXyC2z",
        "outputId": "8c3e8fe1-8841-46d9-f88c-eb819baf7276",
        "colab": {
          "base_uri": "https://localhost:8080/",
          "height": 374
        }
      },
      "source": [
        "# Normalize data\n",
        "data_norm = minmax_scale(df_data_num, feature_range=(0, 1), axis=0, copy=True)\n",
        "\n",
        "weights = {\"Assenza di patologia\" : 1,\n",
        "           \"Malattia di Alzheimer\" : 1,\n",
        "           \"Disturbo cognitivo lieve\" : 1,\n",
        "           \"Disturbo depressivo\" : 1.5}\n",
        "\n",
        "model = SVC(kernel=\"poly\", C = 1,  degree = 3, gamma = 0.2, class_weight = weights)\n",
        "\n",
        "cv = StratifiedKFold(n_splits=10, shuffle=True, random_state=1)\n",
        "prediction = cross_val_predict(model, data_norm, df_target.values, cv=cv, verbose=5)\n",
        "\n",
        "\n",
        "# print(\"Accuracy: %0.2f (+/- %0.2f)\" % (scores.mean(), scores.std() * 2))\n",
        "print(\"Accuracy: \", accuracy_score(df_target.values, prediction))\n",
        "labels = [\"Assenza di patologia\", \"Malattia di Alzheimer\",  \"Disturbo cognitivo lieve\", \"Disturbo depressivo\"]\n",
        "df_cm = pd.DataFrame(confusion_matrix(df_target.values, prediction, labels = labels, sample_weight=None, normalize=None), columns = labels)\n",
        "df_cm.insert(0, \"Conf. matrix\", labels)\n",
        "df_cm\n"
      ],
      "execution_count": 7,
      "outputs": [
        {
          "output_type": "stream",
          "text": [
            "Accuracy:  0.6918429003021148\n"
          ],
          "name": "stdout"
        },
        {
          "output_type": "stream",
          "text": [
            "[Parallel(n_jobs=1)]: Using backend SequentialBackend with 1 concurrent workers.\n",
            "[Parallel(n_jobs=1)]: Done   1 out of   1 | elapsed:    0.0s remaining:    0.0s\n",
            "[Parallel(n_jobs=1)]: Done   2 out of   2 | elapsed:    0.0s remaining:    0.0s\n",
            "[Parallel(n_jobs=1)]: Done   3 out of   3 | elapsed:    0.0s remaining:    0.0s\n",
            "[Parallel(n_jobs=1)]: Done   4 out of   4 | elapsed:    0.0s remaining:    0.0s\n",
            "[Parallel(n_jobs=1)]: Done  10 out of  10 | elapsed:    0.1s finished\n"
          ],
          "name": "stderr"
        },
        {
          "output_type": "execute_result",
          "data": {
            "text/html": [
              "<div>\n",
              "<style scoped>\n",
              "    .dataframe tbody tr th:only-of-type {\n",
              "        vertical-align: middle;\n",
              "    }\n",
              "\n",
              "    .dataframe tbody tr th {\n",
              "        vertical-align: top;\n",
              "    }\n",
              "\n",
              "    .dataframe thead th {\n",
              "        text-align: right;\n",
              "    }\n",
              "</style>\n",
              "<table border=\"1\" class=\"dataframe\">\n",
              "  <thead>\n",
              "    <tr style=\"text-align: right;\">\n",
              "      <th></th>\n",
              "      <th>Conf. matrix</th>\n",
              "      <th>Assenza di patologia</th>\n",
              "      <th>Malattia di Alzheimer</th>\n",
              "      <th>Disturbo cognitivo lieve</th>\n",
              "      <th>Disturbo depressivo</th>\n",
              "    </tr>\n",
              "  </thead>\n",
              "  <tbody>\n",
              "    <tr>\n",
              "      <th>0</th>\n",
              "      <td>Assenza di patologia</td>\n",
              "      <td>190</td>\n",
              "      <td>11</td>\n",
              "      <td>2</td>\n",
              "      <td>0</td>\n",
              "    </tr>\n",
              "    <tr>\n",
              "      <th>1</th>\n",
              "      <td>Malattia di Alzheimer</td>\n",
              "      <td>27</td>\n",
              "      <td>33</td>\n",
              "      <td>4</td>\n",
              "      <td>0</td>\n",
              "    </tr>\n",
              "    <tr>\n",
              "      <th>2</th>\n",
              "      <td>Disturbo cognitivo lieve</td>\n",
              "      <td>16</td>\n",
              "      <td>19</td>\n",
              "      <td>6</td>\n",
              "      <td>0</td>\n",
              "    </tr>\n",
              "    <tr>\n",
              "      <th>3</th>\n",
              "      <td>Disturbo depressivo</td>\n",
              "      <td>15</td>\n",
              "      <td>8</td>\n",
              "      <td>0</td>\n",
              "      <td>0</td>\n",
              "    </tr>\n",
              "  </tbody>\n",
              "</table>\n",
              "</div>"
            ],
            "text/plain": [
              "               Conf. matrix  ...  Disturbo depressivo\n",
              "0      Assenza di patologia  ...                    0\n",
              "1     Malattia di Alzheimer  ...                    0\n",
              "2  Disturbo cognitivo lieve  ...                    0\n",
              "3       Disturbo depressivo  ...                    0\n",
              "\n",
              "[4 rows x 5 columns]"
            ]
          },
          "metadata": {
            "tags": []
          },
          "execution_count": 7
        }
      ]
    },
    {
      "cell_type": "markdown",
      "metadata": {
        "id": "SOLe5QEIyC29"
      },
      "source": [
        "## New instances prediction\n"
      ]
    },
    {
      "cell_type": "code",
      "metadata": {
        "id": "FBS7oFidyC3A",
        "outputId": "ddb78fe9-5346-4c53-fc7e-21aad9d44f3b",
        "colab": {
          "base_uri": "https://localhost:8080/",
          "height": 175
        }
      },
      "source": [
        "# Normalize data\n",
        "data_norm = minmax_scale(df_data_num, feature_range=(0, 1), axis=0, copy=True)\n",
        "data_test_num_norm = minmax_scale(df_data_test_num, feature_range=(0, 1), axis=0, copy=True)\n",
        "\n",
        "weights = {\"Assenza di patologia\" : 1,\n",
        "           \"Malattia di Alzheimer\" : 1,\n",
        "           \"Disturbo cognitivo lieve\" : 1,\n",
        "           \"Disturbo depressivo\" : 1.5}\n",
        "\n",
        "model = SVC(kernel=\"poly\", C = 1,  degree = 3, gamma = 0.2, class_weight = weights)\n",
        "\n",
        "model.fit(data_norm,df_target.values)\n",
        "prediction = model.predict(data_test_num_norm)\n",
        "\n",
        "df_sub = result_test[[\"ID\"]]\n",
        "df_sub.insert(len(df_sub.columns), \"Patologia\", prediction)\n",
        "\n",
        "df_sub.groupby(\"Patologia\").count().sort_values(by=\"Patologia\")"
      ],
      "execution_count": 8,
      "outputs": [
        {
          "output_type": "execute_result",
          "data": {
            "text/html": [
              "<div>\n",
              "<style scoped>\n",
              "    .dataframe tbody tr th:only-of-type {\n",
              "        vertical-align: middle;\n",
              "    }\n",
              "\n",
              "    .dataframe tbody tr th {\n",
              "        vertical-align: top;\n",
              "    }\n",
              "\n",
              "    .dataframe thead th {\n",
              "        text-align: right;\n",
              "    }\n",
              "</style>\n",
              "<table border=\"1\" class=\"dataframe\">\n",
              "  <thead>\n",
              "    <tr style=\"text-align: right;\">\n",
              "      <th></th>\n",
              "      <th>ID</th>\n",
              "    </tr>\n",
              "    <tr>\n",
              "      <th>Patologia</th>\n",
              "      <th></th>\n",
              "    </tr>\n",
              "  </thead>\n",
              "  <tbody>\n",
              "    <tr>\n",
              "      <th>Assenza di patologia</th>\n",
              "      <td>106</td>\n",
              "    </tr>\n",
              "    <tr>\n",
              "      <th>Disturbo cognitivo lieve</th>\n",
              "      <td>16</td>\n",
              "    </tr>\n",
              "    <tr>\n",
              "      <th>Malattia di Alzheimer</th>\n",
              "      <td>42</td>\n",
              "    </tr>\n",
              "  </tbody>\n",
              "</table>\n",
              "</div>"
            ],
            "text/plain": [
              "                           ID\n",
              "Patologia                    \n",
              "Assenza di patologia      106\n",
              "Disturbo cognitivo lieve   16\n",
              "Malattia di Alzheimer      42"
            ]
          },
          "metadata": {
            "tags": []
          },
          "execution_count": 8
        }
      ]
    },
    {
      "cell_type": "code",
      "metadata": {
        "id": "IGJ-1RK-yC3L",
        "outputId": "578f28c0-9ae9-4d8e-c37b-1acddf2056f0",
        "colab": {
          "base_uri": "https://localhost:8080/",
          "height": 424
        }
      },
      "source": [
        "df_sub"
      ],
      "execution_count": 9,
      "outputs": [
        {
          "output_type": "execute_result",
          "data": {
            "text/html": [
              "<div>\n",
              "<style scoped>\n",
              "    .dataframe tbody tr th:only-of-type {\n",
              "        vertical-align: middle;\n",
              "    }\n",
              "\n",
              "    .dataframe tbody tr th {\n",
              "        vertical-align: top;\n",
              "    }\n",
              "\n",
              "    .dataframe thead th {\n",
              "        text-align: right;\n",
              "    }\n",
              "</style>\n",
              "<table border=\"1\" class=\"dataframe\">\n",
              "  <thead>\n",
              "    <tr style=\"text-align: right;\">\n",
              "      <th></th>\n",
              "      <th>ID</th>\n",
              "      <th>Patologia</th>\n",
              "    </tr>\n",
              "  </thead>\n",
              "  <tbody>\n",
              "    <tr>\n",
              "      <th>0</th>\n",
              "      <td>Row6</td>\n",
              "      <td>Disturbo cognitivo lieve</td>\n",
              "    </tr>\n",
              "    <tr>\n",
              "      <th>1</th>\n",
              "      <td>Row8</td>\n",
              "      <td>Malattia di Alzheimer</td>\n",
              "    </tr>\n",
              "    <tr>\n",
              "      <th>2</th>\n",
              "      <td>Row9</td>\n",
              "      <td>Disturbo cognitivo lieve</td>\n",
              "    </tr>\n",
              "    <tr>\n",
              "      <th>3</th>\n",
              "      <td>Row10</td>\n",
              "      <td>Assenza di patologia</td>\n",
              "    </tr>\n",
              "    <tr>\n",
              "      <th>4</th>\n",
              "      <td>Row13</td>\n",
              "      <td>Malattia di Alzheimer</td>\n",
              "    </tr>\n",
              "    <tr>\n",
              "      <th>...</th>\n",
              "      <td>...</td>\n",
              "      <td>...</td>\n",
              "    </tr>\n",
              "    <tr>\n",
              "      <th>159</th>\n",
              "      <td>Row505</td>\n",
              "      <td>Assenza di patologia</td>\n",
              "    </tr>\n",
              "    <tr>\n",
              "      <th>160</th>\n",
              "      <td>Row506</td>\n",
              "      <td>Malattia di Alzheimer</td>\n",
              "    </tr>\n",
              "    <tr>\n",
              "      <th>161</th>\n",
              "      <td>Row507</td>\n",
              "      <td>Assenza di patologia</td>\n",
              "    </tr>\n",
              "    <tr>\n",
              "      <th>162</th>\n",
              "      <td>Row508</td>\n",
              "      <td>Assenza di patologia</td>\n",
              "    </tr>\n",
              "    <tr>\n",
              "      <th>163</th>\n",
              "      <td>Row509</td>\n",
              "      <td>Assenza di patologia</td>\n",
              "    </tr>\n",
              "  </tbody>\n",
              "</table>\n",
              "<p>164 rows × 2 columns</p>\n",
              "</div>"
            ],
            "text/plain": [
              "         ID                 Patologia\n",
              "0      Row6  Disturbo cognitivo lieve\n",
              "1      Row8     Malattia di Alzheimer\n",
              "2      Row9  Disturbo cognitivo lieve\n",
              "3     Row10      Assenza di patologia\n",
              "4     Row13     Malattia di Alzheimer\n",
              "..      ...                       ...\n",
              "159  Row505      Assenza di patologia\n",
              "160  Row506     Malattia di Alzheimer\n",
              "161  Row507      Assenza di patologia\n",
              "162  Row508      Assenza di patologia\n",
              "163  Row509      Assenza di patologia\n",
              "\n",
              "[164 rows x 2 columns]"
            ]
          },
          "metadata": {
            "tags": []
          },
          "execution_count": 9
        }
      ]
    },
    {
      "cell_type": "code",
      "metadata": {
        "id": "cth9-XoMyC3T"
      },
      "source": [
        "df_sub.to_csv(\"SVC_poly_1_3_0p2.csv\", index = False)"
      ],
      "execution_count": 10,
      "outputs": []
    },
    {
      "cell_type": "markdown",
      "metadata": {
        "id": "P0g-KXS6OJFi"
      },
      "source": [
        "# KNN Classifier\n",
        "\n",
        "\n"
      ]
    },
    {
      "cell_type": "markdown",
      "metadata": {
        "id": "8iVPoKciO_HF"
      },
      "source": [
        "## Hyperparameter Selection\n",
        "\n"
      ]
    },
    {
      "cell_type": "code",
      "metadata": {
        "id": "Tw12lUAVPH7P",
        "outputId": "08b2bda6-e46a-4e88-e55d-defe2099b636",
        "colab": {
          "base_uri": "https://localhost:8080/",
          "height": 579
        }
      },
      "source": [
        "# Split dataset (2/3 training , 1/3 test)\n",
        "data_train, data_test, target_train, target_test = train_test_split(df_data_num.values, df_target.values, test_size=0.33, stratify = df_target)\n",
        "\n",
        "# Normalize data\n",
        "data_train_norm = minmax_scale(data_train, feature_range=(0, 1), axis=0, copy=True)\n",
        "data_test_norm = minmax_scale(data_test, feature_range=(0, 1), axis=0, copy=True)\n",
        "\n",
        "# Select best hyerparameter\n",
        "p_grid = {\"metric\": [\"manhattan\", \"euclidean\"],\n",
        "          \"n_neighbors\": np.arange(1,20,1),\n",
        "          \"weights\": [\"distance\", \"uniform\"]}\n",
        "\n",
        "# KNN Classifier\n",
        "model = KNeighborsClassifier(radius=1.0, algorithm='auto', leaf_size=30, n_jobs=2)\n",
        "hyp_cv = StratifiedKFold(n_splits=10, shuffle=True, random_state=1)\n",
        "clf = GridSearchCV(estimator=model, param_grid=p_grid, cv= hyp_cv, verbose = 1, scoring = 'accuracy')\n",
        "\n",
        "clf.fit(data_train_norm,target_train)\n",
        "\n",
        "print(\"Best score: \", clf.best_score_)\n",
        "print(\"Best params: \", clf.best_params_)\n",
        "\n",
        "\n",
        "df_score = pd.DataFrame(clf.cv_results_)\n",
        "df_score = df_score.sort_values(by=[\"rank_test_score\"])\n",
        "df_score = df_score.loc[:,\"params\":\"rank_test_score\"]\n",
        "df_score.head()"
      ],
      "execution_count": 11,
      "outputs": [
        {
          "output_type": "stream",
          "text": [
            "Fitting 10 folds for each of 76 candidates, totalling 760 fits\n"
          ],
          "name": "stdout"
        },
        {
          "output_type": "stream",
          "text": [
            "[Parallel(n_jobs=1)]: Using backend SequentialBackend with 1 concurrent workers.\n"
          ],
          "name": "stderr"
        },
        {
          "output_type": "stream",
          "text": [
            "Best score:  0.7150197628458498\n",
            "Best params:  {'metric': 'manhattan', 'n_neighbors': 8, 'weights': 'distance'}\n"
          ],
          "name": "stdout"
        },
        {
          "output_type": "stream",
          "text": [
            "[Parallel(n_jobs=1)]: Done 760 out of 760 | elapsed:    6.8s finished\n"
          ],
          "name": "stderr"
        },
        {
          "output_type": "execute_result",
          "data": {
            "text/html": [
              "<div>\n",
              "<style scoped>\n",
              "    .dataframe tbody tr th:only-of-type {\n",
              "        vertical-align: middle;\n",
              "    }\n",
              "\n",
              "    .dataframe tbody tr th {\n",
              "        vertical-align: top;\n",
              "    }\n",
              "\n",
              "    .dataframe thead th {\n",
              "        text-align: right;\n",
              "    }\n",
              "</style>\n",
              "<table border=\"1\" class=\"dataframe\">\n",
              "  <thead>\n",
              "    <tr style=\"text-align: right;\">\n",
              "      <th></th>\n",
              "      <th>params</th>\n",
              "      <th>split0_test_score</th>\n",
              "      <th>split1_test_score</th>\n",
              "      <th>split2_test_score</th>\n",
              "      <th>split3_test_score</th>\n",
              "      <th>split4_test_score</th>\n",
              "      <th>split5_test_score</th>\n",
              "      <th>split6_test_score</th>\n",
              "      <th>split7_test_score</th>\n",
              "      <th>split8_test_score</th>\n",
              "      <th>split9_test_score</th>\n",
              "      <th>mean_test_score</th>\n",
              "      <th>std_test_score</th>\n",
              "      <th>rank_test_score</th>\n",
              "    </tr>\n",
              "  </thead>\n",
              "  <tbody>\n",
              "    <tr>\n",
              "      <th>14</th>\n",
              "      <td>{'metric': 'manhattan', 'n_neighbors': 8, 'wei...</td>\n",
              "      <td>0.695652</td>\n",
              "      <td>0.681818</td>\n",
              "      <td>0.727273</td>\n",
              "      <td>0.727273</td>\n",
              "      <td>0.772727</td>\n",
              "      <td>0.727273</td>\n",
              "      <td>0.727273</td>\n",
              "      <td>0.545455</td>\n",
              "      <td>0.727273</td>\n",
              "      <td>0.818182</td>\n",
              "      <td>0.715020</td>\n",
              "      <td>0.067047</td>\n",
              "      <td>1</td>\n",
              "    </tr>\n",
              "    <tr>\n",
              "      <th>13</th>\n",
              "      <td>{'metric': 'manhattan', 'n_neighbors': 7, 'wei...</td>\n",
              "      <td>0.739130</td>\n",
              "      <td>0.636364</td>\n",
              "      <td>0.681818</td>\n",
              "      <td>0.727273</td>\n",
              "      <td>0.727273</td>\n",
              "      <td>0.727273</td>\n",
              "      <td>0.727273</td>\n",
              "      <td>0.636364</td>\n",
              "      <td>0.727273</td>\n",
              "      <td>0.818182</td>\n",
              "      <td>0.714822</td>\n",
              "      <td>0.050448</td>\n",
              "      <td>2</td>\n",
              "    </tr>\n",
              "    <tr>\n",
              "      <th>18</th>\n",
              "      <td>{'metric': 'manhattan', 'n_neighbors': 10, 'we...</td>\n",
              "      <td>0.652174</td>\n",
              "      <td>0.681818</td>\n",
              "      <td>0.681818</td>\n",
              "      <td>0.727273</td>\n",
              "      <td>0.772727</td>\n",
              "      <td>0.772727</td>\n",
              "      <td>0.727273</td>\n",
              "      <td>0.590909</td>\n",
              "      <td>0.681818</td>\n",
              "      <td>0.818182</td>\n",
              "      <td>0.710672</td>\n",
              "      <td>0.063304</td>\n",
              "      <td>3</td>\n",
              "    </tr>\n",
              "    <tr>\n",
              "      <th>10</th>\n",
              "      <td>{'metric': 'manhattan', 'n_neighbors': 6, 'wei...</td>\n",
              "      <td>0.652174</td>\n",
              "      <td>0.681818</td>\n",
              "      <td>0.772727</td>\n",
              "      <td>0.772727</td>\n",
              "      <td>0.727273</td>\n",
              "      <td>0.772727</td>\n",
              "      <td>0.681818</td>\n",
              "      <td>0.545455</td>\n",
              "      <td>0.681818</td>\n",
              "      <td>0.818182</td>\n",
              "      <td>0.710672</td>\n",
              "      <td>0.075235</td>\n",
              "      <td>4</td>\n",
              "    </tr>\n",
              "    <tr>\n",
              "      <th>19</th>\n",
              "      <td>{'metric': 'manhattan', 'n_neighbors': 10, 'we...</td>\n",
              "      <td>0.695652</td>\n",
              "      <td>0.681818</td>\n",
              "      <td>0.681818</td>\n",
              "      <td>0.727273</td>\n",
              "      <td>0.681818</td>\n",
              "      <td>0.727273</td>\n",
              "      <td>0.727273</td>\n",
              "      <td>0.636364</td>\n",
              "      <td>0.727273</td>\n",
              "      <td>0.818182</td>\n",
              "      <td>0.710474</td>\n",
              "      <td>0.045722</td>\n",
              "      <td>5</td>\n",
              "    </tr>\n",
              "  </tbody>\n",
              "</table>\n",
              "</div>"
            ],
            "text/plain": [
              "                                               params  ...  rank_test_score\n",
              "14  {'metric': 'manhattan', 'n_neighbors': 8, 'wei...  ...                1\n",
              "13  {'metric': 'manhattan', 'n_neighbors': 7, 'wei...  ...                2\n",
              "18  {'metric': 'manhattan', 'n_neighbors': 10, 'we...  ...                3\n",
              "10  {'metric': 'manhattan', 'n_neighbors': 6, 'wei...  ...                4\n",
              "19  {'metric': 'manhattan', 'n_neighbors': 10, 'we...  ...                5\n",
              "\n",
              "[5 rows x 14 columns]"
            ]
          },
          "metadata": {
            "tags": []
          },
          "execution_count": 11
        }
      ]
    },
    {
      "cell_type": "markdown",
      "metadata": {
        "id": "AUhT40bFP-IE"
      },
      "source": [
        "## Model Evaluation"
      ]
    },
    {
      "cell_type": "markdown",
      "metadata": {
        "id": "a2jm1lcaQBDe"
      },
      "source": [
        "## Test Set Evaluation"
      ]
    },
    {
      "cell_type": "code",
      "metadata": {
        "id": "6tcXgIUQQEZo",
        "outputId": "aa8716d0-602d-4179-b4b2-d1f23864b020",
        "colab": {
          "base_uri": "https://localhost:8080/",
          "height": 263
        }
      },
      "source": [
        "# Evaluating model on 1/3 of dataset\n",
        "\n",
        "model = KNeighborsClassifier(radius=1.0, algorithm='auto', leaf_size=30, n_jobs=2, metric = \"manhattan\", n_neighbors=8, weights=\"distance\")\n",
        "\n",
        "model.fit(data_train_norm, target_train)\n",
        "prediction = model.predict(data_test_norm)\n",
        "# print(\"Accuracy: \", svm.score(data_test, target_test))\n",
        "print(\"Accuracy: \", accuracy_score(target_test, prediction))\n",
        "labels = [\"Assenza di patologia\", \"Malattia di Alzheimer\",  \"Disturbo cognitivo lieve\", \"Disturbo depressivo\"]\n",
        "df_cm = pd.DataFrame(confusion_matrix(target_test, prediction, labels= labels, sample_weight=None, normalize=None), columns = labels)\n",
        "df_cm.insert(0, \"Conf. matrix\", labels)\n",
        "df_cm"
      ],
      "execution_count": 12,
      "outputs": [
        {
          "output_type": "stream",
          "text": [
            "Accuracy:  0.7181818181818181\n"
          ],
          "name": "stdout"
        },
        {
          "output_type": "execute_result",
          "data": {
            "text/html": [
              "<div>\n",
              "<style scoped>\n",
              "    .dataframe tbody tr th:only-of-type {\n",
              "        vertical-align: middle;\n",
              "    }\n",
              "\n",
              "    .dataframe tbody tr th {\n",
              "        vertical-align: top;\n",
              "    }\n",
              "\n",
              "    .dataframe thead th {\n",
              "        text-align: right;\n",
              "    }\n",
              "</style>\n",
              "<table border=\"1\" class=\"dataframe\">\n",
              "  <thead>\n",
              "    <tr style=\"text-align: right;\">\n",
              "      <th></th>\n",
              "      <th>Conf. matrix</th>\n",
              "      <th>Assenza di patologia</th>\n",
              "      <th>Malattia di Alzheimer</th>\n",
              "      <th>Disturbo cognitivo lieve</th>\n",
              "      <th>Disturbo depressivo</th>\n",
              "    </tr>\n",
              "  </thead>\n",
              "  <tbody>\n",
              "    <tr>\n",
              "      <th>0</th>\n",
              "      <td>Assenza di patologia</td>\n",
              "      <td>62</td>\n",
              "      <td>3</td>\n",
              "      <td>2</td>\n",
              "      <td>0</td>\n",
              "    </tr>\n",
              "    <tr>\n",
              "      <th>1</th>\n",
              "      <td>Malattia di Alzheimer</td>\n",
              "      <td>7</td>\n",
              "      <td>13</td>\n",
              "      <td>1</td>\n",
              "      <td>0</td>\n",
              "    </tr>\n",
              "    <tr>\n",
              "      <th>2</th>\n",
              "      <td>Disturbo cognitivo lieve</td>\n",
              "      <td>5</td>\n",
              "      <td>4</td>\n",
              "      <td>4</td>\n",
              "      <td>1</td>\n",
              "    </tr>\n",
              "    <tr>\n",
              "      <th>3</th>\n",
              "      <td>Disturbo depressivo</td>\n",
              "      <td>6</td>\n",
              "      <td>0</td>\n",
              "      <td>2</td>\n",
              "      <td>0</td>\n",
              "    </tr>\n",
              "  </tbody>\n",
              "</table>\n",
              "</div>"
            ],
            "text/plain": [
              "               Conf. matrix  ...  Disturbo depressivo\n",
              "0      Assenza di patologia  ...                    0\n",
              "1     Malattia di Alzheimer  ...                    0\n",
              "2  Disturbo cognitivo lieve  ...                    1\n",
              "3       Disturbo depressivo  ...                    0\n",
              "\n",
              "[4 rows x 5 columns]"
            ]
          },
          "metadata": {
            "tags": []
          },
          "execution_count": 12
        }
      ]
    },
    {
      "cell_type": "markdown",
      "metadata": {
        "id": "OtT3dVUuQjJl"
      },
      "source": [
        "### Cross Validation on entire dataset\n"
      ]
    },
    {
      "cell_type": "code",
      "metadata": {
        "id": "gUGz_ig9QnRD",
        "outputId": "80711623-9e35-4161-def3-3f6f0e8a472e",
        "colab": {
          "base_uri": "https://localhost:8080/",
          "height": 374
        }
      },
      "source": [
        "# Normalize data\n",
        "data_norm = minmax_scale(df_data_num, feature_range=(0, 1), axis=0, copy=True)\n",
        "\n",
        "\n",
        "model = KNeighborsClassifier(radius=1.0, algorithm='auto', leaf_size=30, n_jobs=2, metric = \"manhattan\", n_neighbors=8, weights=\"distance\")\n",
        "\n",
        "cv = StratifiedKFold(n_splits=10, shuffle=True, random_state=1)\n",
        "prediction = cross_val_predict(model, data_norm, df_target.values, cv=cv, verbose=5)\n",
        "\n",
        "\n",
        "# print(\"Accuracy: %0.2f (+/- %0.2f)\" % (scores.mean(), scores.std() * 2))\n",
        "print(\"Accuracy: \", accuracy_score(df_target.values, prediction))\n",
        "labels = [\"Assenza di patologia\", \"Malattia di Alzheimer\",  \"Disturbo cognitivo lieve\", \"Disturbo depressivo\"]\n",
        "df_cm = pd.DataFrame(confusion_matrix(df_target.values, prediction, labels = labels, sample_weight=None, normalize=None), columns = labels)\n",
        "df_cm.insert(0, \"Conf. matrix\", labels)\n",
        "df_cm"
      ],
      "execution_count": 13,
      "outputs": [
        {
          "output_type": "stream",
          "text": [
            "Accuracy:  0.7129909365558912\n"
          ],
          "name": "stdout"
        },
        {
          "output_type": "stream",
          "text": [
            "[Parallel(n_jobs=1)]: Using backend SequentialBackend with 1 concurrent workers.\n",
            "[Parallel(n_jobs=1)]: Done   1 out of   1 | elapsed:    0.0s remaining:    0.0s\n",
            "[Parallel(n_jobs=1)]: Done   2 out of   2 | elapsed:    0.0s remaining:    0.0s\n",
            "[Parallel(n_jobs=1)]: Done   3 out of   3 | elapsed:    0.0s remaining:    0.0s\n",
            "[Parallel(n_jobs=1)]: Done   4 out of   4 | elapsed:    0.0s remaining:    0.0s\n",
            "[Parallel(n_jobs=1)]: Done  10 out of  10 | elapsed:    0.1s finished\n"
          ],
          "name": "stderr"
        },
        {
          "output_type": "execute_result",
          "data": {
            "text/html": [
              "<div>\n",
              "<style scoped>\n",
              "    .dataframe tbody tr th:only-of-type {\n",
              "        vertical-align: middle;\n",
              "    }\n",
              "\n",
              "    .dataframe tbody tr th {\n",
              "        vertical-align: top;\n",
              "    }\n",
              "\n",
              "    .dataframe thead th {\n",
              "        text-align: right;\n",
              "    }\n",
              "</style>\n",
              "<table border=\"1\" class=\"dataframe\">\n",
              "  <thead>\n",
              "    <tr style=\"text-align: right;\">\n",
              "      <th></th>\n",
              "      <th>Conf. matrix</th>\n",
              "      <th>Assenza di patologia</th>\n",
              "      <th>Malattia di Alzheimer</th>\n",
              "      <th>Disturbo cognitivo lieve</th>\n",
              "      <th>Disturbo depressivo</th>\n",
              "    </tr>\n",
              "  </thead>\n",
              "  <tbody>\n",
              "    <tr>\n",
              "      <th>0</th>\n",
              "      <td>Assenza di patologia</td>\n",
              "      <td>191</td>\n",
              "      <td>7</td>\n",
              "      <td>4</td>\n",
              "      <td>1</td>\n",
              "    </tr>\n",
              "    <tr>\n",
              "      <th>1</th>\n",
              "      <td>Malattia di Alzheimer</td>\n",
              "      <td>22</td>\n",
              "      <td>33</td>\n",
              "      <td>9</td>\n",
              "      <td>0</td>\n",
              "    </tr>\n",
              "    <tr>\n",
              "      <th>2</th>\n",
              "      <td>Disturbo cognitivo lieve</td>\n",
              "      <td>17</td>\n",
              "      <td>12</td>\n",
              "      <td>12</td>\n",
              "      <td>0</td>\n",
              "    </tr>\n",
              "    <tr>\n",
              "      <th>3</th>\n",
              "      <td>Disturbo depressivo</td>\n",
              "      <td>14</td>\n",
              "      <td>3</td>\n",
              "      <td>6</td>\n",
              "      <td>0</td>\n",
              "    </tr>\n",
              "  </tbody>\n",
              "</table>\n",
              "</div>"
            ],
            "text/plain": [
              "               Conf. matrix  ...  Disturbo depressivo\n",
              "0      Assenza di patologia  ...                    1\n",
              "1     Malattia di Alzheimer  ...                    0\n",
              "2  Disturbo cognitivo lieve  ...                    0\n",
              "3       Disturbo depressivo  ...                    0\n",
              "\n",
              "[4 rows x 5 columns]"
            ]
          },
          "metadata": {
            "tags": []
          },
          "execution_count": 13
        }
      ]
    },
    {
      "cell_type": "markdown",
      "metadata": {
        "id": "UKckuSHNRJ5a"
      },
      "source": [
        "## New instances prediction"
      ]
    },
    {
      "cell_type": "code",
      "metadata": {
        "id": "aNdrzREoRNCA",
        "outputId": "ccd6fb44-d03e-484c-9e3b-2a648e8461ad",
        "colab": {
          "base_uri": "https://localhost:8080/",
          "height": 175
        }
      },
      "source": [
        "# Normalize data\n",
        "data_norm = minmax_scale(df_data_num, feature_range=(0, 1), axis=0, copy=True)\n",
        "data_test_num_norm = minmax_scale(df_data_test_num, feature_range=(0, 1), axis=0, copy=True)\n",
        "\n",
        "model = KNeighborsClassifier(radius=1.0, algorithm='auto', leaf_size=30, n_jobs=2, metric = \"manhattan\", n_neighbors=8, weights=\"distance\")\n",
        "\n",
        "model.fit(data_norm,df_target.values)\n",
        "prediction = model.predict(data_test_num_norm)\n",
        "\n",
        "df_sub = result_test[[\"ID\"]]\n",
        "df_sub.insert(len(df_sub.columns), \"Patologia\", prediction)\n",
        "\n",
        "df_sub.groupby(\"Patologia\").count().sort_values(by=\"Patologia\")"
      ],
      "execution_count": 14,
      "outputs": [
        {
          "output_type": "execute_result",
          "data": {
            "text/html": [
              "<div>\n",
              "<style scoped>\n",
              "    .dataframe tbody tr th:only-of-type {\n",
              "        vertical-align: middle;\n",
              "    }\n",
              "\n",
              "    .dataframe tbody tr th {\n",
              "        vertical-align: top;\n",
              "    }\n",
              "\n",
              "    .dataframe thead th {\n",
              "        text-align: right;\n",
              "    }\n",
              "</style>\n",
              "<table border=\"1\" class=\"dataframe\">\n",
              "  <thead>\n",
              "    <tr style=\"text-align: right;\">\n",
              "      <th></th>\n",
              "      <th>ID</th>\n",
              "    </tr>\n",
              "    <tr>\n",
              "      <th>Patologia</th>\n",
              "      <th></th>\n",
              "    </tr>\n",
              "  </thead>\n",
              "  <tbody>\n",
              "    <tr>\n",
              "      <th>Assenza di patologia</th>\n",
              "      <td>123</td>\n",
              "    </tr>\n",
              "    <tr>\n",
              "      <th>Disturbo cognitivo lieve</th>\n",
              "      <td>22</td>\n",
              "    </tr>\n",
              "    <tr>\n",
              "      <th>Malattia di Alzheimer</th>\n",
              "      <td>19</td>\n",
              "    </tr>\n",
              "  </tbody>\n",
              "</table>\n",
              "</div>"
            ],
            "text/plain": [
              "                           ID\n",
              "Patologia                    \n",
              "Assenza di patologia      123\n",
              "Disturbo cognitivo lieve   22\n",
              "Malattia di Alzheimer      19"
            ]
          },
          "metadata": {
            "tags": []
          },
          "execution_count": 14
        }
      ]
    },
    {
      "cell_type": "code",
      "metadata": {
        "id": "UYhqd4axSSRw",
        "outputId": "e01a6f71-fc19-4de4-8497-b371f0e5590e",
        "colab": {
          "base_uri": "https://localhost:8080/",
          "height": 424
        }
      },
      "source": [
        "df_sub"
      ],
      "execution_count": 15,
      "outputs": [
        {
          "output_type": "execute_result",
          "data": {
            "text/html": [
              "<div>\n",
              "<style scoped>\n",
              "    .dataframe tbody tr th:only-of-type {\n",
              "        vertical-align: middle;\n",
              "    }\n",
              "\n",
              "    .dataframe tbody tr th {\n",
              "        vertical-align: top;\n",
              "    }\n",
              "\n",
              "    .dataframe thead th {\n",
              "        text-align: right;\n",
              "    }\n",
              "</style>\n",
              "<table border=\"1\" class=\"dataframe\">\n",
              "  <thead>\n",
              "    <tr style=\"text-align: right;\">\n",
              "      <th></th>\n",
              "      <th>ID</th>\n",
              "      <th>Patologia</th>\n",
              "    </tr>\n",
              "  </thead>\n",
              "  <tbody>\n",
              "    <tr>\n",
              "      <th>0</th>\n",
              "      <td>Row6</td>\n",
              "      <td>Disturbo cognitivo lieve</td>\n",
              "    </tr>\n",
              "    <tr>\n",
              "      <th>1</th>\n",
              "      <td>Row8</td>\n",
              "      <td>Disturbo cognitivo lieve</td>\n",
              "    </tr>\n",
              "    <tr>\n",
              "      <th>2</th>\n",
              "      <td>Row9</td>\n",
              "      <td>Assenza di patologia</td>\n",
              "    </tr>\n",
              "    <tr>\n",
              "      <th>3</th>\n",
              "      <td>Row10</td>\n",
              "      <td>Assenza di patologia</td>\n",
              "    </tr>\n",
              "    <tr>\n",
              "      <th>4</th>\n",
              "      <td>Row13</td>\n",
              "      <td>Assenza di patologia</td>\n",
              "    </tr>\n",
              "    <tr>\n",
              "      <th>...</th>\n",
              "      <td>...</td>\n",
              "      <td>...</td>\n",
              "    </tr>\n",
              "    <tr>\n",
              "      <th>159</th>\n",
              "      <td>Row505</td>\n",
              "      <td>Assenza di patologia</td>\n",
              "    </tr>\n",
              "    <tr>\n",
              "      <th>160</th>\n",
              "      <td>Row506</td>\n",
              "      <td>Assenza di patologia</td>\n",
              "    </tr>\n",
              "    <tr>\n",
              "      <th>161</th>\n",
              "      <td>Row507</td>\n",
              "      <td>Assenza di patologia</td>\n",
              "    </tr>\n",
              "    <tr>\n",
              "      <th>162</th>\n",
              "      <td>Row508</td>\n",
              "      <td>Assenza di patologia</td>\n",
              "    </tr>\n",
              "    <tr>\n",
              "      <th>163</th>\n",
              "      <td>Row509</td>\n",
              "      <td>Assenza di patologia</td>\n",
              "    </tr>\n",
              "  </tbody>\n",
              "</table>\n",
              "<p>164 rows × 2 columns</p>\n",
              "</div>"
            ],
            "text/plain": [
              "         ID                 Patologia\n",
              "0      Row6  Disturbo cognitivo lieve\n",
              "1      Row8  Disturbo cognitivo lieve\n",
              "2      Row9      Assenza di patologia\n",
              "3     Row10      Assenza di patologia\n",
              "4     Row13      Assenza di patologia\n",
              "..      ...                       ...\n",
              "159  Row505      Assenza di patologia\n",
              "160  Row506      Assenza di patologia\n",
              "161  Row507      Assenza di patologia\n",
              "162  Row508      Assenza di patologia\n",
              "163  Row509      Assenza di patologia\n",
              "\n",
              "[164 rows x 2 columns]"
            ]
          },
          "metadata": {
            "tags": []
          },
          "execution_count": 15
        }
      ]
    },
    {
      "cell_type": "code",
      "metadata": {
        "id": "OSFEoCrZSSoG"
      },
      "source": [
        "df_sub.to_csv(\"KNN_manhattan_8_distance.csv\", index = False)"
      ],
      "execution_count": 16,
      "outputs": []
    }
  ]
}